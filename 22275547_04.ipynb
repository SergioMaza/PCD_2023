{
 "cells": [
  {
   "cell_type": "code",
   "execution_count": 3,
   "id": "6ab283fe-b24b-4a0c-ac51-1ef07b291cec",
   "metadata": {},
   "outputs": [],
   "source": [
    "import os, threading as th, time, urllib.request as rq, concurrent as ct, IPython as IP"
   ]
  },
  {
   "cell_type": "code",
   "execution_count": 34,
   "id": "aac92b16-b51a-46f5-984d-4f0c265fa8b5",
   "metadata": {},
   "outputs": [
    {
     "name": "stdin",
     "output_type": "stream",
     "text": [
      "Ingrese el numero de la imagen inicial:  0\n"
     ]
    }
   ],
   "source": [
    "img = int(input(\"Ingrese el numero de la imagen inicial: \"))"
   ]
  },
  {
   "cell_type": "code",
   "execution_count": 41,
   "id": "04c48bd1-7f99-46a5-b80e-4c4a36853cd3",
   "metadata": {},
   "outputs": [],
   "source": [
    "img_url = \"https://storage.cloud.google.com/pcd-images-threads/pic{:03d}.jpeg\".format(img)"
   ]
  },
  {
   "cell_type": "code",
   "execution_count": 42,
   "id": "27bb8c2e-de05-4914-8d7a-f6156a439cf3",
   "metadata": {
    "scrolled": true
   },
   "outputs": [
    {
     "data": {
      "text/plain": [
       "'https://storage.cloud.google.com/pcd-images-threads/pic000.jpeg'"
      ]
     },
     "execution_count": 42,
     "metadata": {},
     "output_type": "execute_result"
    }
   ],
   "source": [
    "img_url"
   ]
  },
  {
   "cell_type": "code",
   "execution_count": 43,
   "id": "da69a1bb-3fff-4722-95d3-8f0a0dc780da",
   "metadata": {},
   "outputs": [],
   "source": [
    "a_url=[]"
   ]
  },
  {
   "cell_type": "code",
   "execution_count": 44,
   "id": "aae6575c-4829-485c-a64a-d0cd5cf1b088",
   "metadata": {
    "scrolled": true
   },
   "outputs": [
    {
     "name": "stdout",
     "output_type": "stream",
     "text": [
      "https://storage.cloud.google.com/pcd-images-threads/pic000jpeg\n",
      "https://storage.cloud.google.com/pcd-images-threads/pic001jpeg\n",
      "https://storage.cloud.google.com/pcd-images-threads/pic002jpeg\n",
      "https://storage.cloud.google.com/pcd-images-threads/pic003jpeg\n",
      "https://storage.cloud.google.com/pcd-images-threads/pic004jpeg\n",
      "https://storage.cloud.google.com/pcd-images-threads/pic005jpeg\n",
      "https://storage.cloud.google.com/pcd-images-threads/pic006jpeg\n",
      "https://storage.cloud.google.com/pcd-images-threads/pic007jpeg\n",
      "https://storage.cloud.google.com/pcd-images-threads/pic008jpeg\n",
      "https://storage.cloud.google.com/pcd-images-threads/pic009jpeg\n"
     ]
    }
   ],
   "source": [
    "for i in range(10):\n",
    "    img_url = \"https://storage.cloud.google.com/pcd-images-threads/pic00\" + str(i)+ \"jpeg\"\n",
    "    print(img_url)\n",
    "    a_url.append(img_url)"
   ]
  },
  {
   "cell_type": "code",
   "execution_count": 45,
   "id": "a84c6a49-b5b5-467b-85b6-33206d4a2b55",
   "metadata": {},
   "outputs": [
    {
     "data": {
      "text/plain": [
       "['https://storage.cloud.google.com/pcd-images-threads/pic000jpeg',\n",
       " 'https://storage.cloud.google.com/pcd-images-threads/pic001jpeg',\n",
       " 'https://storage.cloud.google.com/pcd-images-threads/pic002jpeg',\n",
       " 'https://storage.cloud.google.com/pcd-images-threads/pic003jpeg',\n",
       " 'https://storage.cloud.google.com/pcd-images-threads/pic004jpeg',\n",
       " 'https://storage.cloud.google.com/pcd-images-threads/pic005jpeg',\n",
       " 'https://storage.cloud.google.com/pcd-images-threads/pic006jpeg',\n",
       " 'https://storage.cloud.google.com/pcd-images-threads/pic007jpeg',\n",
       " 'https://storage.cloud.google.com/pcd-images-threads/pic008jpeg',\n",
       " 'https://storage.cloud.google.com/pcd-images-threads/pic009jpeg']"
      ]
     },
     "execution_count": 45,
     "metadata": {},
     "output_type": "execute_result"
    }
   ],
   "source": [
    "a_url"
   ]
  },
  {
   "cell_type": "code",
   "execution_count": 40,
   "id": "678dd701-3a45-4dc6-93f1-b4dbef003d87",
   "metadata": {},
   "outputs": [],
   "source": [
    "def seq_download_images(image_numbers):\n",
    "    total_bytes = 0\n",
    "    for num in image_numbers:\n",
    "        total_bytes += download_image(num)\n",
    "    return total_bytes"
   ]
  },
  {
   "cell_type": "code",
   "execution_count": 33,
   "id": "ac75a0a2-383b-4982-8fe7-0bb7eecf11de",
   "metadata": {},
   "outputs": [
    {
     "ename": "SyntaxError",
     "evalue": "incomplete input (3853061276.py, line 2)",
     "output_type": "error",
     "traceback": [
      "\u001b[1;36m  Cell \u001b[1;32mIn[33], line 2\u001b[1;36m\u001b[0m\n\u001b[1;33m    \u001b[0m\n\u001b[1;37m    ^\u001b[0m\n\u001b[1;31mSyntaxError\u001b[0m\u001b[1;31m:\u001b[0m incomplete input\n"
     ]
    }
   ],
   "source": [
    "def download_image(num):\n",
    "    "
   ]
  },
  {
   "cell_type": "code",
   "execution_count": null,
   "id": "ad4072e5-5586-4ff0-8e97-3078bb5c5927",
   "metadata": {},
   "outputs": [],
   "source": []
  }
 ],
 "metadata": {
  "kernelspec": {
   "display_name": "Python 3 (ipykernel)",
   "language": "python",
   "name": "python3"
  },
  "language_info": {
   "codemirror_mode": {
    "name": "ipython",
    "version": 3
   },
   "file_extension": ".py",
   "mimetype": "text/x-python",
   "name": "python",
   "nbconvert_exporter": "python",
   "pygments_lexer": "ipython3",
   "version": "3.11.5"
  }
 },
 "nbformat": 4,
 "nbformat_minor": 5
}
