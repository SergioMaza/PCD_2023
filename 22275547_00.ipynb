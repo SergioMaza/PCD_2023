{
 "cells": [
  {
   "cell_type": "markdown",
   "id": "35234bec-5c7b-4633-8707-dc66df14e36c",
   "metadata": {},
   "source": [
    "## Primera clase PCD "
   ]
  },
  {
   "cell_type": "markdown",
   "id": "404785cc-2f8d-4eac-99ba-e898a8767076",
   "metadata": {},
   "source": [
    "1- Muestre que version de pip tiene?"
   ]
  },
  {
   "cell_type": "code",
   "execution_count": 1,
   "id": "92f35f43-047c-496c-ad04-e955a17fc084",
   "metadata": {},
   "outputs": [
    {
     "name": "stdout",
     "output_type": "stream",
     "text": [
      "pip 23.2.1 from C:\\Users\\sergi\\AppData\\Local\\Programs\\Python\\Python311\\Lib\\site-packages\\pip (python 3.11)\n",
      "\n"
     ]
    }
   ],
   "source": [
    "!pip --version"
   ]
  },
  {
   "cell_type": "markdown",
   "id": "6a24c642-edcd-41b5-8181-0759aa14fe24",
   "metadata": {},
   "source": [
    "### System Specs"
   ]
  },
  {
   "cell_type": "code",
   "execution_count": 2,
   "id": "ac807157-bdae-488c-82c4-7d818b152aee",
   "metadata": {},
   "outputs": [],
   "source": [
    "import platform as pt"
   ]
  },
  {
   "cell_type": "code",
   "execution_count": 7,
   "id": "8748cf51-c0c0-4f14-aa4e-b4b7340ff370",
   "metadata": {},
   "outputs": [
    {
     "data": {
      "text/plain": [
       "uname_result(system='Windows', node='Usuario', release='10', version='10.0.22621', machine='AMD64')"
      ]
     },
     "execution_count": 7,
     "metadata": {},
     "output_type": "execute_result"
    }
   ],
   "source": [
    "pt.uname()"
   ]
  },
  {
   "cell_type": "code",
   "execution_count": 8,
   "id": "774d4093-cdd4-453f-874f-7c026053ce0d",
   "metadata": {},
   "outputs": [
    {
     "data": {
      "text/plain": [
       "'AMD64 Family 23 Model 104 Stepping 1, AuthenticAMD'"
      ]
     },
     "execution_count": 8,
     "metadata": {},
     "output_type": "execute_result"
    }
   ],
   "source": [
    "pt.processor()"
   ]
  },
  {
   "cell_type": "code",
   "execution_count": 9,
   "id": "cf3d2753-dc55-4b5b-8546-8194733b4867",
   "metadata": {},
   "outputs": [
    {
     "data": {
      "text/plain": [
       "'Windows-10-10.0.22621-SP0'"
      ]
     },
     "execution_count": 9,
     "metadata": {},
     "output_type": "execute_result"
    }
   ],
   "source": [
    "pt.platform()"
   ]
  },
  {
   "cell_type": "markdown",
   "id": "37aabda7-ea6d-4fd7-a9ec-9705b1ca6f9e",
   "metadata": {},
   "source": [
    "### Cores?"
   ]
  },
  {
   "cell_type": "code",
   "execution_count": 10,
   "id": "110d4c5c-4bef-4a42-a29c-0481d23df118",
   "metadata": {},
   "outputs": [],
   "source": [
    "import os"
   ]
  },
  {
   "cell_type": "code",
   "execution_count": 11,
   "id": "037f71a1-94a5-4bbd-b5b3-72b7aea5996e",
   "metadata": {},
   "outputs": [
    {
     "data": {
      "text/plain": [
       "16"
      ]
     },
     "execution_count": 11,
     "metadata": {},
     "output_type": "execute_result"
    }
   ],
   "source": [
    "os.cpu_count()"
   ]
  },
  {
   "cell_type": "code",
   "execution_count": null,
   "id": "6c206edc-f9de-423e-adce-a50faf8bb0b6",
   "metadata": {},
   "outputs": [],
   "source": []
  }
 ],
 "metadata": {
  "kernelspec": {
   "display_name": "Python 3 (ipykernel)",
   "language": "python",
   "name": "python3"
  },
  "language_info": {
   "codemirror_mode": {
    "name": "ipython",
    "version": 3
   },
   "file_extension": ".py",
   "mimetype": "text/x-python",
   "name": "python",
   "nbconvert_exporter": "python",
   "pygments_lexer": "ipython3",
   "version": "3.11.5"
  }
 },
 "nbformat": 4,
 "nbformat_minor": 5
}
