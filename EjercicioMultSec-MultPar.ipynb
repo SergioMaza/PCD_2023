{
 "cells": [
  {
   "cell_type": "markdown",
   "id": "0ee097be-00cc-469b-89aa-ade0f01d8386",
   "metadata": {},
   "source": [
    "### Multipicacion Secuencial vs Paralela"
   ]
  },
  {
   "cell_type": "code",
   "execution_count": null,
   "id": "be993239-859c-48aa-b57a-9a6562788b67",
   "metadata": {},
   "outputs": [],
   "source": [
    "form IPyhon"
   ]
  }
 ],
 "metadata": {
  "kernelspec": {
   "display_name": "Python 3 (ipykernel)",
   "language": "python",
   "name": "python3"
  },
  "language_info": {
   "codemirror_mode": {
    "name": "ipython",
    "version": 3
   },
   "file_extension": ".py",
   "mimetype": "text/x-python",
   "name": "python",
   "nbconvert_exporter": "python",
   "pygments_lexer": "ipython3",
   "version": "3.11.5"
  }
 },
 "nbformat": 4,
 "nbformat_minor": 5
}
