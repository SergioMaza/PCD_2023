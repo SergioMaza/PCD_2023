{
 "cells": [
  {
   "cell_type": "markdown",
   "id": "d5cb3850-027e-4921-8b45-5fc02f641eab",
   "metadata": {},
   "source": [
    "# 3 / Oct / 2023\n",
    "## Threads."
   ]
  },
  {
   "cell_type": "markdown",
   "id": "39859a19-d699-4e57-b88c-a19772614394",
   "metadata": {},
   "source": [
    "### Import libs, manage threads"
   ]
  },
  {
   "cell_type": "code",
   "execution_count": 18,
   "id": "08b3b729-e90d-415a-9dde-0d89a623ceb2",
   "metadata": {},
   "outputs": [],
   "source": [
    "import threading as th"
   ]
  },
  {
   "cell_type": "code",
   "execution_count": 4,
   "id": "c72c10cc-9946-4afc-9eee-7121100b0f91",
   "metadata": {},
   "outputs": [
    {
     "data": {
      "text/plain": [
       "6"
      ]
     },
     "execution_count": 4,
     "metadata": {},
     "output_type": "execute_result"
    }
   ],
   "source": [
    "th.active_count()"
   ]
  },
  {
   "cell_type": "code",
   "execution_count": 19,
   "id": "c7ae6f03-1dbd-4b01-88d9-e7a8ba8e0318",
   "metadata": {},
   "outputs": [
    {
     "data": {
      "text/plain": [
       "<_MainThread(MainThread, started 4192)>"
      ]
     },
     "execution_count": 19,
     "metadata": {},
     "output_type": "execute_result"
    }
   ],
   "source": [
    "th.current_thread()"
   ]
  },
  {
   "cell_type": "code",
   "execution_count": 20,
   "id": "e204fa7d-a2d3-4757-8366-b156d7021a10",
   "metadata": {},
   "outputs": [
    {
     "data": {
      "text/plain": [
       "<bound method Thread.getName of <_MainThread(MainThread, started 4192)>>"
      ]
     },
     "execution_count": 20,
     "metadata": {},
     "output_type": "execute_result"
    }
   ],
   "source": [
    "th.current_thread().getName"
   ]
  },
  {
   "cell_type": "code",
   "execution_count": 5,
   "id": "9b637b74-f26e-41ef-bd32-f6e83c77020f",
   "metadata": {},
   "outputs": [
    {
     "data": {
      "text/plain": [
       "[<_MainThread(MainThread, started 4192)>,\n",
       " <Thread(IOPub, started daemon 13428)>,\n",
       " <Heartbeat(Heartbeat, started daemon 21628)>,\n",
       " <ControlThread(Control, started daemon 3828)>,\n",
       " <HistorySavingThread(IPythonHistorySavingThread, started 19404)>,\n",
       " <ParentPollerWindows(Thread-4, started daemon 23384)>]"
      ]
     },
     "execution_count": 5,
     "metadata": {},
     "output_type": "execute_result"
    }
   ],
   "source": [
    "th.enumerate()"
   ]
  },
  {
   "cell_type": "markdown",
   "id": "9dce2b81-a57f-4b59-94f2-d94b81504aff",
   "metadata": {},
   "source": [
    "### Who is the parent?"
   ]
  },
  {
   "cell_type": "code",
   "execution_count": 2,
   "id": "55251e74-6759-4bfd-8be5-922915602fe1",
   "metadata": {},
   "outputs": [],
   "source": [
    "import os"
   ]
  },
  {
   "cell_type": "code",
   "execution_count": 4,
   "id": "dd0aac3d-953a-4e48-9105-8b0a5e9e7f5a",
   "metadata": {},
   "outputs": [
    {
     "data": {
      "text/plain": [
       "10556"
      ]
     },
     "execution_count": 4,
     "metadata": {},
     "output_type": "execute_result"
    }
   ],
   "source": [
    "os.getpid()"
   ]
  },
  {
   "cell_type": "code",
   "execution_count": 10,
   "id": "cfff496e-17d5-4b45-b770-12078a97aae0",
   "metadata": {},
   "outputs": [],
   "source": [
    "from IPython import display as dp"
   ]
  },
  {
   "cell_type": "markdown",
   "id": "c7ae8538-97c5-43a7-b4e0-00a40c919422",
   "metadata": {},
   "source": [
    "The parent is?"
   ]
  },
  {
   "cell_type": "code",
   "execution_count": 11,
   "id": "dd4013c5-e6aa-4595-81b4-68274b3add6d",
   "metadata": {},
   "outputs": [
    {
     "data": {
      "image/png": "[encoded data removed]",
      "text/plain": [
       "<IPython.core.display.Image object>"
      ]
     },
     "execution_count": 11,
     "metadata": {},
     "output_type": "execute_result"
    }
   ],
   "source": [
    "dp.Image(\"5_oct_2023.png\")"
   ]
  },
  {
   "cell_type": "markdown",
   "id": "2c883e2f-5a6a-4e4e-a5fc-b8b128443bc3",
   "metadata": {},
   "source": [
    "### Threads VS Process"
   ]
  },
  {
   "cell_type": "markdown",
   "id": "3ac6f2bb-cf5d-4bc1-b676-e866d6f47438",
   "metadata": {},
   "source": [
    "#### Threads ex."
   ]
  },
  {
   "cell_type": "code",
   "execution_count": 16,
   "id": "1a86e0a1-67c8-4017-a922-603cf1cc3197",
   "metadata": {},
   "outputs": [],
   "source": [
    "def do_nothing():\n",
    "    while True:\n",
    "        pass"
   ]
  },
  {
   "cell_type": "code",
   "execution_count": 19,
   "id": "d83af6fe-231e-4483-8aee-ec2ac72a8861",
   "metadata": {},
   "outputs": [
    {
     "data": {
      "text/plain": [
       "[<_MainThread(MainThread, started 15340)>,\n",
       " <Thread(IOPub, started daemon 18468)>,\n",
       " <Heartbeat(Heartbeat, started daemon 9380)>,\n",
       " <ControlThread(Control, started daemon 18860)>,\n",
       " <HistorySavingThread(IPythonHistorySavingThread, started 12604)>,\n",
       " <ParentPollerWindows(Thread-4, started daemon 15772)>,\n",
       " <Thread(Thread-5 (do_nothing), started 17536)>,\n",
       " <Thread(Thread-6 (do_nothing), started 3984)>,\n",
       " <Thread(Thread-7 (do_nothing), started 3008)>,\n",
       " <Thread(Thread-8 (do_nothing), started 6236)>,\n",
       " <Thread(Thread-9 (do_nothing), started 20044)>,\n",
       " <Thread(Thread-10 (do_nothing), started 19008)>,\n",
       " <Thread(Thread-11 (do_nothing), started 17944)>,\n",
       " <Thread(Thread-12 (do_nothing), started 20108)>,\n",
       " <Thread(Thread-13 (do_nothing), started 17672)>,\n",
       " <Thread(Thread-14 (do_nothing), started 2768)>,\n",
       " <Thread(Thread-15 (do_nothing), started 19032)>,\n",
       " <Thread(Thread-16 (do_nothing), started 1728)>,\n",
       " <Thread(Thread-17 (do_nothing), started 4120)>,\n",
       " <Thread(Thread-18 (do_nothing), started 18240)>,\n",
       " <Thread(Thread-19 (do_nothing), started 11708)>,\n",
       " <Thread(Thread-20 (do_nothing), started 1768)>,\n",
       " <Thread(Thread-21 (do_nothing), started 17380)>,\n",
       " <Thread(Thread-22 (do_nothing), started 19284)>,\n",
       " <Thread(Thread-23 (do_nothing), started 18200)>,\n",
       " <Thread(Thread-24 (do_nothing), started 11944)>]"
      ]
     },
     "execution_count": 19,
     "metadata": {},
     "output_type": "execute_result"
    }
   ],
   "source": [
    "for i in range(20):\n",
    "    th.Thread(target = do_nothing).start()\n",
    "\n",
    "th.enumerate()"
   ]
  },
  {
   "cell_type": "markdown",
   "id": "6c20e006-cd15-4492-b55c-339e79b20054",
   "metadata": {},
   "source": [
    "#### Process ex."
   ]
  },
  {
   "cell_type": "code",
   "execution_count": null,
   "id": "e9320e67-e2d3-4fef-ab0f-17c20ba2be27",
   "metadata": {},
   "outputs": [],
   "source": [
    "for i in range(10):\n",
    "  mp.Process(target = do_nothing()).start  "
   ]
  },
  {
   "cell_type": "markdown",
   "id": "fcd96843-c478-40de-bd78-b0f641f5fe33",
   "metadata": {},
   "source": [
    "### Import libs, manage process (cores)"
   ]
  },
  {
   "cell_type": "code",
   "execution_count": 21,
   "id": "6a8a5ee2-dcb2-4b8b-9dba-fd2dc604433d",
   "metadata": {},
   "outputs": [],
   "source": [
    "import multiprocessing as mp # Manages cores"
   ]
  },
  {
   "cell_type": "code",
   "execution_count": 12,
   "id": "b86016dc-0445-4c36-971d-c270177103de",
   "metadata": {},
   "outputs": [
    {
     "data": {
      "text/plain": [
       "16"
      ]
     },
     "execution_count": 12,
     "metadata": {},
     "output_type": "execute_result"
    }
   ],
   "source": [
    "mp.cpu_count()"
   ]
  },
  {
   "cell_type": "markdown",
   "id": "76b4e9cd-bf90-4c85-831c-3801e2d112fc",
   "metadata": {},
   "source": [
    "### Cual es mi interprete de Python?"
   ]
  },
  {
   "cell_type": "code",
   "execution_count": 14,
   "id": "dc91e47a-e4c0-4274-b9f6-af0d3e06c6f7",
   "metadata": {},
   "outputs": [],
   "source": [
    "import platform as pt"
   ]
  },
  {
   "cell_type": "code",
   "execution_count": 15,
   "id": "b79c15ec-3194-4665-bef8-287c1590e027",
   "metadata": {},
   "outputs": [
    {
     "data": {
      "text/plain": [
       "'CPython'"
      ]
     },
     "execution_count": 15,
     "metadata": {},
     "output_type": "execute_result"
    }
   ],
   "source": [
    "pt.python_implementation()"
   ]
  },
  {
   "cell_type": "code",
   "execution_count": 17,
   "id": "866aff4d-ab22-4b44-98a1-88de0e7103db",
   "metadata": {},
   "outputs": [
    {
     "name": "stdout",
     "output_type": "stream",
     "text": [
      "Python 3.11.5\n"
     ]
    }
   ],
   "source": [
    "! python3 --version"
   ]
  },
  {
   "cell_type": "code",
   "execution_count": 18,
   "id": "b468d78f-f6e1-47bf-a0a6-1aa03248d6c6",
   "metadata": {},
   "outputs": [
    {
     "data": {
      "text/plain": [
       "'MSC v.1936 64 bit (AMD64)'"
      ]
     },
     "execution_count": 18,
     "metadata": {},
     "output_type": "execute_result"
    }
   ],
   "source": [
    "pt.python_compiler()"
   ]
  },
  {
   "cell_type": "code",
   "execution_count": 21,
   "id": "0fd3a244-6d6c-4236-b5f3-498d44e4cbd3",
   "metadata": {},
   "outputs": [
    {
     "data": {
      "text/plain": [
       "[[1, 2, 3, 4], [4, 6, 7]]"
      ]
     },
     "execution_count": 21,
     "metadata": {},
     "output_type": "execute_result"
    }
   ],
   "source": [
    "[[1,2,3,4],[4,6,7]]"
   ]
  },
  {
   "cell_type": "code",
   "execution_count": null,
   "id": "0c929364-b3ea-4a3f-8255-5692fca3e526",
   "metadata": {},
   "outputs": [],
   "source": []
  }
 ],
 "metadata": {
  "kernelspec": {
   "display_name": "Python 3 (ipykernel)",
   "language": "python",
   "name": "python3"
  },
  "language_info": {
   "codemirror_mode": {
    "name": "ipython",
    "version": 3
   },
   "file_extension": ".py",
   "mimetype": "text/x-python",
   "name": "python",
   "nbconvert_exporter": "python",
   "pygments_lexer": "ipython3",
   "version": "3.11.5"
  }
 },
 "nbformat": 4,
 "nbformat_minor": 5
}
