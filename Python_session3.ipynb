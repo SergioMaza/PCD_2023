{
 "cells": [
  {
   "cell_type": "markdown",
   "id": "e99b3835-6f04-48ac-bac2-1ec40d8b8d09",
   "metadata": {},
   "source": [
    "<!-- PROFILE LINK -->\n",
    "<h1 style = \"text-align:center; font-size: 30px\">PROGRAMACIÓN CONCURRENTE Y DISTRIBUIDA</h1>\n",
    "<a href =\"https://github.com/sukuzhanay\">\n",
    "<img src=\"https://avatars.githubusercontent.com/u/17354471?v=4\" style=\"float:left;vertical-align:centre\" width=\"110\" height=\"110\" title = \"Christian Vlaldimir Sucuzhanay Arevalo 21535220\">\n",
    "<a href =\"https://github.com/sukuzhanay?tab=repositories\">\n",
    "<img src=\"https://media-exp1.licdn.com/dms/image/C4D0BAQEu_Aa76fcmPw/company-logo_200_200/0/1630998679429?e=2159024400&v=beta&t=2feC9GG7RWCWizTqsK5HzDWB1TL2DOQuAVwnMf6FFvk\" title = \"M41\" alt=\"UE\" width=\"110\" height=\"110\" style=\"float:right;vertical-align:centre\">"
   ]
  },
  {
   "cell_type": "markdown",
   "id": "b5aae5fa",
   "metadata": {},
   "source": [
    "# Introducción a NumPy\n",
    "## *Session 3*"
   ]
  },
  {
   "cell_type": "markdown",
   "id": "3aa5a3e9",
   "metadata": {},
   "source": [
    "NumPy (Numerical Python) es el paquete indispensable para llevar a cabo tareas de alto rendimiento y de análisis de datos. Como\n",
    "ejemplo, NumPy es la base para el funcionamiento de la otra\n",
    "librería que veremos, Pandas. Pandas se sitúa en un nivel por\n",
    "encima de NumPy, aprovechándose de todas las características de\n",
    "esta librería.\n",
    "\n",
    " Esta librería está **especializada en el cálculo numérico y el análisis de datos, especialmente para un gran volumen de datos**.\n",
    "\n",
    "Al estar en un nivel superior de abstracción, Pandas ofrece unas\n",
    "funciones más cercanas al usuario para facilitar el análisis de datos.\n",
    "Igualmente, también ofrece operaciones de bajo nivel como Numpy\n",
    "\n",
    "\n",
    "Incorpora una nueva clase de objetos llamados **arrays** que permite representar colecciones de datos de un mismo tipo en varias dimensiones, y funciones muy eficientes para su manipulación."
   ]
  },
  {
   "cell_type": "code",
   "execution_count": 2,
   "id": "9714adf1-f13e-460e-836c-f18df3fccde8",
   "metadata": {},
   "outputs": [
    {
     "name": "stdout",
     "output_type": "stream",
     "text": [
      "pip 23.2.1 from C:\\Users\\sergi\\AppData\\Local\\Programs\\Python\\Python311\\Lib\\site-packages\\pip (python 3.11)\n",
      "\n"
     ]
    }
   ],
   "source": [
    "!pip3 --version"
   ]
  },
  {
   "cell_type": "code",
   "execution_count": 3,
   "id": "4c746ed8-321a-4cec-bf8c-a8655ab4b036",
   "metadata": {},
   "outputs": [
    {
     "name": "stdout",
     "output_type": "stream",
     "text": [
      "Requirement already satisfied: numpy in c:\\users\\sergi\\appdata\\local\\programs\\python\\python311\\lib\\site-packages (1.26.1)\n"
     ]
    },
    {
     "name": "stderr",
     "output_type": "stream",
     "text": [
      "\n",
      "[notice] A new release of pip is available: 23.2.1 -> 23.3.1\n",
      "[notice] To update, run: C:\\Users\\sergi\\AppData\\Local\\Programs\\Python\\Python311\\python.exe -m pip install --upgrade pip\n"
     ]
    }
   ],
   "source": [
    "!pip3 install numpy"
   ]
  },
  {
   "cell_type": "code",
   "execution_count": 4,
   "id": "14b36430",
   "metadata": {},
   "outputs": [],
   "source": [
    "import numpy as np"
   ]
  },
  {
   "cell_type": "code",
   "execution_count": null,
   "id": "18c08da5",
   "metadata": {},
   "outputs": [],
   "source": [
    "np."
   ]
  },
  {
   "cell_type": "markdown",
   "id": "dda204d3",
   "metadata": {},
   "source": [
    "Una de las características más importantes de NumPy es su array\n",
    "multidimensional, ndarray, que sirve para almacenar conjuntos de\n",
    "datos. Este tipo de objeto permite realizar operaciones\n",
    "matemáticas en bloques de datos completos de una manera muy\n",
    "natural.\n",
    "\n",
    "- Creación de un array: \n",
    "\n",
    "**np.array()** : Crea un array y devuelve una referencia a él. El número de dimensiones del array dependerá de las listas o tuplas anidadas en lista:\n",
    "\n",
    "- Para una lista de valores se crea un array de *una dimensión*, también conocido como **vector**.\n",
    "\n",
    "- Para una lista de listas de valores se crea un array de *dos dimensiones*, también conocido como **matriz**.\n",
    "\n",
    "- Para una lista de listas de listas de valores se crea un array de *tres dimensiones*, también conocido como **cubo**.\n",
    "\n",
    "- Y así sucesivamente. No hay límite en el número de dimensiones del array más allá de la memoria disponible en el sistema.\n",
    "\n",
    "**Importante:** Los datos que contiene un objeto de tipo ndarray son homogéneos,\n",
    "es decir, todos los elementos deben ser del mismo tipo.\n",
    "\n",
    "Un array puede ser un número, se considera entonces como un array de 0 dimensiones."
   ]
  },
  {
   "cell_type": "code",
   "execution_count": 12,
   "id": "ab685f52",
   "metadata": {},
   "outputs": [
    {
     "name": "stdout",
     "output_type": "stream",
     "text": [
      "80\n"
     ]
    }
   ],
   "source": [
    "# Array de un numero\n",
    "array_0 = np.array(80)\n",
    "print(array_0)"
   ]
  },
  {
   "cell_type": "code",
   "execution_count": 14,
   "id": "f8298094-2f2b-4c6a-9dc0-afcbd4895ef4",
   "metadata": {},
   "outputs": [
    {
     "data": {
      "text/plain": [
       "0"
      ]
     },
     "execution_count": 14,
     "metadata": {},
     "output_type": "execute_result"
    }
   ],
   "source": [
    "array_0.ndim # Te da el numero de dimensiones del array"
   ]
  },
  {
   "cell_type": "code",
   "execution_count": 20,
   "id": "f1ba8950-cbac-4213-b2b1-99449c1b8077",
   "metadata": {},
   "outputs": [
    {
     "data": {
      "text/plain": [
       "()"
      ]
     },
     "execution_count": 20,
     "metadata": {},
     "output_type": "execute_result"
    }
   ],
   "source": [
    "array_0.shape # Te da las dimensiones del array"
   ]
  },
  {
   "cell_type": "code",
   "execution_count": 11,
   "id": "48f3bafc",
   "metadata": {},
   "outputs": [
    {
     "data": {
      "text/plain": [
       "array([ 1,  2,  3,  5,  7, 11])"
      ]
     },
     "execution_count": 11,
     "metadata": {},
     "output_type": "execute_result"
    }
   ],
   "source": [
    "# Array de una dimensión\n",
    "array_1 = np.array([1, 2, 3, 5, 7, 11])\n",
    "array_1"
   ]
  },
  {
   "cell_type": "code",
   "execution_count": 13,
   "id": "5538fa96",
   "metadata": {},
   "outputs": [
    {
     "name": "stdout",
     "output_type": "stream",
     "text": [
      "[[  1   2   3   5   7  11]\n",
      " [  1   4   9  25  49 121]]\n"
     ]
    }
   ],
   "source": [
    "# Array de dos dimensiones\n",
    "array_2 = np.array([[1, 2, 3, 5, 7, 11],[1, 4, 9, 25, 49, 121]])\n",
    "print(array_2)"
   ]
  },
  {
   "cell_type": "code",
   "execution_count": 15,
   "id": "7f673880-6519-4d3c-b743-875482e66e5d",
   "metadata": {},
   "outputs": [
    {
     "data": {
      "text/plain": [
       "2"
      ]
     },
     "execution_count": 15,
     "metadata": {},
     "output_type": "execute_result"
    }
   ],
   "source": [
    "array_2.ndim"
   ]
  },
  {
   "cell_type": "code",
   "execution_count": 19,
   "id": "3185344a-0649-4b19-b1b3-36aeaf692a0e",
   "metadata": {},
   "outputs": [
    {
     "data": {
      "text/plain": [
       "(2, 6)"
      ]
     },
     "execution_count": 19,
     "metadata": {},
     "output_type": "execute_result"
    }
   ],
   "source": [
    "array_2.shape # Te da las dimensiones"
   ]
  },
  {
   "cell_type": "code",
   "execution_count": 16,
   "id": "19202676",
   "metadata": {},
   "outputs": [
    {
     "name": "stdout",
     "output_type": "stream",
     "text": [
      "[[[  1   2   3   5   7  11]\n",
      "  [  1   4   9  25  49 121]]\n",
      "\n",
      " [[  1   2   3   5   7  11]\n",
      "  [  1   4   9  25  49 121]]]\n"
     ]
    }
   ],
   "source": [
    "# Array de tres dimensiones\n",
    "array_3 = np.array([[[1, 2, 3, 5, 7, 11],[1, 4, 9, 25, 49, 121]],[[1, 2, 3, 5, 7, 11],[1, 4, 9, 25, 49, 121]]])\n",
    "print(array_3)"
   ]
  },
  {
   "cell_type": "code",
   "execution_count": 23,
   "id": "e31a21f0-552a-4034-b9d2-aa11040526de",
   "metadata": {},
   "outputs": [
    {
     "data": {
      "text/plain": [
       "3"
      ]
     },
     "execution_count": 23,
     "metadata": {},
     "output_type": "execute_result"
    }
   ],
   "source": [
    "array_3.ndim"
   ]
  },
  {
   "cell_type": "code",
   "execution_count": 24,
   "id": "b3c8ffef-768a-4a05-aa25-acb716737c50",
   "metadata": {},
   "outputs": [
    {
     "data": {
      "text/plain": [
       "(2, 2, 6)"
      ]
     },
     "execution_count": 24,
     "metadata": {},
     "output_type": "execute_result"
    }
   ],
   "source": [
    "array_3.shape"
   ]
  },
  {
   "cell_type": "code",
   "execution_count": 48,
   "id": "bd7b2f80-c0d7-43b2-a639-5a89cf1335ff",
   "metadata": {
    "scrolled": true
   },
   "outputs": [
    {
     "name": "stdout",
     "output_type": "stream",
     "text": [
      "[[0. 0. 0. 0. 0. 0. 0. 0. 0. 0. 0. 0. 0. 0. 0. 0. 0. 0. 0. 0.]\n",
      " [0. 0. 0. 0. 0. 0. 0. 0. 0. 0. 0. 0. 0. 0. 0. 0. 0. 0. 0. 0.]\n",
      " [0. 0. 0. 0. 0. 0. 0. 0. 0. 0. 0. 0. 0. 0. 0. 0. 0. 0. 0. 0.]\n",
      " [0. 0. 0. 0. 0. 0. 0. 0. 0. 0. 0. 0. 0. 0. 0. 0. 0. 0. 0. 0.]\n",
      " [0. 0. 0. 0. 0. 0. 0. 0. 0. 0. 0. 0. 0. 0. 0. 0. 0. 0. 0. 0.]\n",
      " [0. 0. 0. 0. 0. 0. 0. 0. 0. 0. 0. 0. 0. 0. 0. 0. 0. 0. 0. 0.]]\n"
     ]
    }
   ],
   "source": [
    "array_4 = np.zeros((6, 20)) # Crea un array de 0s de dimensiones (6, 20)\n",
    "print(array_4)"
   ]
  },
  {
   "cell_type": "code",
   "execution_count": 49,
   "id": "f3c24505-7a86-44a4-ba7d-47bf447d5ba8",
   "metadata": {
    "scrolled": true
   },
   "outputs": [
    {
     "name": "stdout",
     "output_type": "stream",
     "text": [
      "[[0. 0. 0. 0. 0. 0.]\n",
      " [0. 0. 0. 0. 0. 0.]\n",
      " [0. 0. 0. 0. 0. 0.]\n",
      " [0. 0. 0. 0. 0. 0.]\n",
      " [0. 0. 0. 0. 0. 0.]\n",
      " [0. 0. 0. 0. 0. 0.]\n",
      " [0. 0. 0. 0. 0. 0.]\n",
      " [0. 0. 0. 0. 0. 0.]\n",
      " [0. 0. 0. 0. 0. 0.]\n",
      " [0. 0. 0. 0. 0. 0.]\n",
      " [0. 0. 0. 0. 0. 0.]\n",
      " [0. 0. 0. 0. 0. 0.]\n",
      " [0. 0. 0. 0. 0. 0.]\n",
      " [0. 0. 0. 0. 0. 0.]\n",
      " [0. 0. 0. 0. 0. 0.]\n",
      " [0. 0. 0. 0. 0. 0.]\n",
      " [0. 0. 0. 0. 0. 0.]\n",
      " [0. 0. 0. 0. 0. 0.]\n",
      " [0. 0. 0. 0. 0. 0.]\n",
      " [0. 0. 0. 0. 0. 0.]\n",
      " [0. 0. 0. 0. 0. 0.]\n",
      " [0. 0. 0. 0. 0. 0.]\n",
      " [0. 0. 0. 0. 0. 0.]\n",
      " [0. 0. 0. 0. 0. 0.]\n",
      " [0. 0. 0. 0. 0. 0.]\n",
      " [0. 0. 0. 0. 0. 0.]\n",
      " [0. 0. 0. 0. 0. 0.]\n",
      " [0. 0. 0. 0. 0. 0.]\n",
      " [0. 0. 0. 0. 0. 0.]\n",
      " [0. 0. 0. 0. 0. 0.]\n",
      " [0. 0. 0. 0. 0. 0.]\n",
      " [0. 0. 0. 0. 0. 0.]\n",
      " [0. 0. 0. 0. 0. 0.]\n",
      " [0. 0. 0. 0. 0. 0.]\n",
      " [0. 0. 0. 0. 0. 0.]\n",
      " [0. 0. 0. 0. 0. 0.]\n",
      " [0. 0. 0. 0. 0. 0.]\n",
      " [0. 0. 0. 0. 0. 0.]\n",
      " [0. 0. 0. 0. 0. 0.]\n",
      " [0. 0. 0. 0. 0. 0.]]\n"
     ]
    }
   ],
   "source": [
    "array_5 = np.zeros((40, 6)) #  Crea un array de 0s de dimensiones (40, 6)\n",
    "print(array_5)"
   ]
  },
  {
   "cell_type": "code",
   "execution_count": 47,
   "id": "28fd484a-2490-4b47-9cb3-17e58e8d13fe",
   "metadata": {
    "collapsed": true,
    "jupyter": {
     "outputs_hidden": true
    },
    "scrolled": true
   },
   "outputs": [
    {
     "name": "stdout",
     "output_type": "stream",
     "text": [
      "[[0. 0. 0. 0. 0. 0. 0. 0. 0. 0. 0. 0. 0. 0. 0. 0. 0. 0. 0. 0.]\n",
      " [0. 0. 0. 0. 0. 0. 0. 0. 0. 0. 0. 0. 0. 0. 0. 0. 0. 0. 0. 0.]\n",
      " [0. 0. 0. 0. 0. 0. 0. 0. 0. 0. 0. 0. 0. 0. 0. 0. 0. 0. 0. 0.]\n",
      " [0. 0. 0. 0. 0. 0. 0. 0. 0. 0. 0. 0. 0. 0. 0. 0. 0. 0. 0. 0.]\n",
      " [0. 0. 0. 0. 0. 0. 0. 0. 0. 0. 0. 0. 0. 0. 0. 0. 0. 0. 0. 0.]\n",
      " [0. 0. 0. 0. 0. 0. 0. 0. 0. 0. 0. 0. 0. 0. 0. 0. 0. 0. 0. 0.]\n",
      " [0. 0. 0. 0. 0. 0. 0. 0. 0. 0. 0. 0. 0. 0. 0. 0. 0. 0. 0. 0.]\n",
      " [0. 0. 0. 0. 0. 0. 0. 0. 0. 0. 0. 0. 0. 0. 0. 0. 0. 0. 0. 0.]\n",
      " [0. 0. 0. 0. 0. 0. 0. 0. 0. 0. 0. 0. 0. 0. 0. 0. 0. 0. 0. 0.]\n",
      " [0. 0. 0. 0. 0. 0. 0. 0. 0. 0. 0. 0. 0. 0. 0. 0. 0. 0. 0. 0.]\n",
      " [0. 0. 0. 0. 0. 0. 0. 0. 0. 0. 0. 0. 0. 0. 0. 0. 0. 0. 0. 0.]\n",
      " [0. 0. 0. 0. 0. 0. 0. 0. 0. 0. 0. 0. 0. 0. 0. 0. 0. 0. 0. 0.]\n",
      " [0. 0. 0. 0. 0. 0. 0. 0. 0. 0. 0. 0. 0. 0. 0. 0. 0. 0. 0. 0.]\n",
      " [0. 0. 0. 0. 0. 0. 0. 0. 0. 0. 0. 0. 0. 0. 0. 0. 0. 0. 0. 0.]\n",
      " [0. 0. 0. 0. 0. 0. 0. 0. 0. 0. 0. 0. 0. 0. 0. 0. 0. 0. 0. 0.]\n",
      " [0. 0. 0. 0. 0. 0. 0. 0. 0. 0. 0. 0. 0. 0. 0. 0. 0. 0. 0. 0.]\n",
      " [0. 0. 0. 0. 0. 0. 0. 0. 0. 0. 0. 0. 0. 0. 0. 0. 0. 0. 0. 0.]\n",
      " [0. 0. 0. 0. 0. 0. 0. 0. 0. 0. 0. 0. 0. 0. 0. 0. 0. 0. 0. 0.]\n",
      " [0. 0. 0. 0. 0. 0. 0. 0. 0. 0. 0. 0. 0. 0. 0. 0. 0. 0. 0. 0.]\n",
      " [0. 0. 0. 0. 0. 0. 0. 0. 0. 0. 0. 0. 0. 0. 0. 0. 0. 0. 0. 0.]\n",
      " [0. 0. 0. 0. 0. 0. 0. 0. 0. 0. 0. 0. 0. 0. 0. 0. 0. 0. 0. 0.]\n",
      " [0. 0. 0. 0. 0. 0. 0. 0. 0. 0. 0. 0. 0. 0. 0. 0. 0. 0. 0. 0.]\n",
      " [0. 0. 0. 0. 0. 0. 0. 0. 0. 0. 0. 0. 0. 0. 0. 0. 0. 0. 0. 0.]\n",
      " [0. 0. 0. 0. 0. 0. 0. 0. 0. 0. 0. 0. 0. 0. 0. 0. 0. 0. 0. 0.]\n",
      " [0. 0. 0. 0. 0. 0. 0. 0. 0. 0. 0. 0. 0. 0. 0. 0. 0. 0. 0. 0.]\n",
      " [0. 0. 0. 0. 0. 0. 0. 0. 0. 0. 0. 0. 0. 0. 0. 0. 0. 0. 0. 0.]\n",
      " [0. 0. 0. 0. 0. 0. 0. 0. 0. 0. 0. 0. 0. 0. 0. 0. 0. 0. 0. 0.]\n",
      " [0. 0. 0. 0. 0. 0. 0. 0. 0. 0. 0. 0. 0. 0. 0. 0. 0. 0. 0. 0.]\n",
      " [0. 0. 0. 0. 0. 0. 0. 0. 0. 0. 0. 0. 0. 0. 0. 0. 0. 0. 0. 0.]\n",
      " [0. 0. 0. 0. 0. 0. 0. 0. 0. 0. 0. 0. 0. 0. 0. 0. 0. 0. 0. 0.]\n",
      " [0. 0. 0. 0. 0. 0. 0. 0. 0. 0. 0. 0. 0. 0. 0. 0. 0. 0. 0. 0.]\n",
      " [0. 0. 0. 0. 0. 0. 0. 0. 0. 0. 0. 0. 0. 0. 0. 0. 0. 0. 0. 0.]\n",
      " [0. 0. 0. 0. 0. 0. 0. 0. 0. 0. 0. 0. 0. 0. 0. 0. 0. 0. 0. 0.]\n",
      " [0. 0. 0. 0. 0. 0. 0. 0. 0. 0. 0. 0. 0. 0. 0. 0. 0. 0. 0. 0.]\n",
      " [0. 0. 0. 0. 0. 0. 0. 0. 0. 0. 0. 0. 0. 0. 0. 0. 0. 0. 0. 0.]\n",
      " [0. 0. 0. 0. 0. 0. 0. 0. 0. 0. 0. 0. 0. 0. 0. 0. 0. 0. 0. 0.]\n",
      " [0. 0. 0. 0. 0. 0. 0. 0. 0. 0. 0. 0. 0. 0. 0. 0. 0. 0. 0. 0.]\n",
      " [0. 0. 0. 0. 0. 0. 0. 0. 0. 0. 0. 0. 0. 0. 0. 0. 0. 0. 0. 0.]\n",
      " [0. 0. 0. 0. 0. 0. 0. 0. 0. 0. 0. 0. 0. 0. 0. 0. 0. 0. 0. 0.]\n",
      " [0. 0. 0. 0. 0. 0. 0. 0. 0. 0. 0. 0. 0. 0. 0. 0. 0. 0. 0. 0.]]\n"
     ]
    }
   ],
   "source": [
    "resultado = np.dot(array_5, array_4) # Multiplica dos arrays\n",
    "print(resultado)"
   ]
  },
  {
   "cell_type": "code",
   "execution_count": 34,
   "id": "682f37f2-7af6-4772-8c46-bca32db504c2",
   "metadata": {
    "scrolled": true
   },
   "outputs": [
    {
     "name": "stdout",
     "output_type": "stream",
     "text": [
      "[[24, 211, 178, 93, 63, 6, 134, 123, 170, 180, 36, 45, 69, 167, 135, 16, 172, 73, 105, 161, 110, 153, 32, 100, 150, 158, 37, 35, 98, 179], [107, 219, 50, 55, 115, 154, 1, 180, 115, 127, 127, 204, 89, 66, 121, 0, 6, 102, 81, 8, 97, 25, 123, 36, 16, 39, 10, 129, 183, 135], [149, 58, 109, 115, 139, 96, 211, 87, 128, 99, 190, 75, 15, 153, 18, 145, 198, 167, 125, 131, 60, 38, 109, 81, 166, 100, 220, 26, 99, 200], [51, 26, 145, 70, 48, 150, 118, 178, 56, 220, 68, 103, 130, 166, 133, 60, 50, 208, 216, 177, 14, 144, 106, 190, 40, 198, 111, 186, 211, 87], [168, 103, 176, 144, 1, 156, 171, 144, 136, 32, 200, 102, 94, 125, 114, 72, 77, 164, 70, 126, 186, 182, 97, 119, 156, 45, 10, 174, 176, 178], [165, 208, 137, 208, 196, 123, 4, 97, 196, 25, 50, 116, 68, 163, 96, 97, 134, 102, 195, 176, 127, 198, 137, 102, 60, 31, 81, 111, 41, 133], [0, 136, 76, 176, 131, 67, 201, 211, 86, 120, 197, 175, 134, 57, 137, 62, 174, 60, 3, 4, 126, 176, 215, 109, 176, 104, 222, 96, 47, 214], [80, 68, 6, 214, 188, 200, 10, 6, 144, 200, 126, 61, 151, 137, 83, 213, 187, 140, 34, 0, 167, 193, 55, 114, 137, 64, 22, 42, 53, 7], [38, 198, 97, 212, 148, 28, 161, 77, 215, 66, 215, 176, 88, 5, 36, 127, 89, 163, 87, 132, 193, 64, 151, 49, 185, 174, 137, 86, 3, 31], [32, 56, 13, 151, 152, 222, 108, 92, 123, 54, 57, 31, 197, 211, 216, 141, 111, 152, 104, 202, 154, 156, 69, 130, 58, 159, 23, 55, 81, 219], [109, 134, 215, 32, 105, 214, 116, 95, 61, 130, 129, 89, 112, 29, 156, 146, 17, 143, 147, 169, 113, 14, 141, 3, 19, 18, 214, 49, 38, 184], [77, 106, 15, 206, 38, 124, 68, 70, 173, 129, 10, 124, 129, 64, 73, 196, 0, 190, 49, 127, 139, 72, 90, 28, 96, 90, 118, 71, 93, 96], [129, 170, 111, 194, 78, 166, 214, 73, 216, 171, 124, 39, 120, 95, 70, 218, 96, 100, 144, 69, 91, 79, 111, 150, 54, 147, 156, 100, 200, 20], [91, 82, 148, 190, 142, 189, 118, 200, 138, 220, 79, 69, 119, 129, 45, 38, 135, 8, 86, 127, 67, 167, 97, 141, 200, 179, 101, 182, 138, 149], [46, 65, 204, 111, 37, 8, 146, 123, 156, 126, 40, 10, 0, 205, 130, 194, 37, 205, 1, 125, 144, 157, 22, 29, 57, 109, 147, 58, 222, 9], [195, 164, 105, 178, 140, 185, 13, 10, 112, 162, 153, 205, 149, 179, 139, 111, 109, 116, 146, 65, 121, 83, 72, 125, 36, 185, 48, 39, 206, 72], [112, 192, 205, 67, 111, 171, 27, 32, 162, 8, 10, 115, 22, 59, 138, 223, 26, 164, 207, 10, 207, 6, 23, 65, 191, 67, 88, 96, 177, 126], [150, 8, 78, 188, 219, 74, 158, 18, 152, 163, 154, 22, 111, 137, 131, 194, 119, 201, 155, 51, 24, 213, 12, 201, 146, 44, 36, 93, 214, 53], [56, 158, 219, 34, 128, 183, 166, 108, 57, 112, 183, 101, 194, 1, 186, 85, 173, 11, 112, 181, 91, 42, 106, 151, 49, 105, 2, 160, 127, 141], [141, 139, 166, 128, 109, 191, 123, 43, 51, 59, 83, 168, 71, 189, 127, 166, 149, 193, 11, 171, 102, 32, 147, 61, 45, 114, 216, 8, 63, 67], [1, 149, 212, 77, 187, 131, 117, 92, 15, 198, 108, 142, 142, 8, 88, 204, 64, 122, 90, 87, 20, 172, 1, 166, 35, 222, 14, 4, 130, 78], [117, 208, 204, 198, 126, 137, 93, 160, 92, 153, 54, 11, 61, 178, 185, 193, 101, 81, 30, 136, 8, 43, 159, 123, 149, 89, 179, 185, 197, 125], [193, 197, 158, 181, 80, 174, 168, 87, 105, 78, 156, 43, 205, 215, 61, 143, 21, 177, 100, 5, 11, 30, 51, 167, 83, 87, 27, 87, 195, 20], [105, 173, 33, 148, 202, 23, 71, 195, 11, 169, 38, 125, 115, 86, 188, 71, 161, 108, 5, 82, 153, 107, 161, 146, 44, 124, 166, 111, 204, 124], [192, 103, 61, 167, 148, 52, 123, 203, 39, 156, 114, 117, 84, 50, 115, 220, 107, 185, 145, 153, 189, 140, 116, 127, 154, 69, 0, 56, 96, 154], [125, 138, 99, 54, 122, 217, 23, 87, 35, 98, 76, 213, 121, 131, 107, 220, 185, 194, 56, 129, 171, 126, 69, 199, 6, 48, 28, 79, 205, 3], [180, 8, 115, 137, 209, 107, 130, 181, 75, 195, 19, 73, 46, 5, 193, 113, 149, 56, 178, 171, 50, 177, 171, 116, 63, 197, 24, 197, 135, 6], [104, 213, 22, 143, 41, 77, 160, 72, 217, 8, 202, 39, 221, 127, 93, 164, 83, 5, 167, 138, 43, 64, 215, 107, 174, 181, 3, 121, 83, 105], [86, 120, 19, 137, 127, 67, 123, 106, 217, 28, 202, 95, 63, 164, 112, 77, 179, 153, 205, 130, 5, 175, 106, 201, 164, 184, 197, 34, 220, 180], [87, 153, 142, 63, 38, 148, 85, 127, 213, 146, 167, 154, 186, 78, 150, 165, 167, 221, 161, 24, 17, 51, 39, 153, 129, 73, 99, 119, 76, 144]]\n"
     ]
    }
   ],
   "source": [
    "#Crea una matriz de 300X300 que tenga dentro numeros aleatorios de 0 a los 3 primeros numeros del expediente (222)\n",
    "import random as rd\n",
    "array_6 = [[rd.randint(0, 223) for i in range(30)] for j in range(30)]\n",
    "print(array_6)"
   ]
  },
  {
   "cell_type": "code",
   "execution_count": 35,
   "id": "ff1897df-7793-4a4d-a338-8c5c19579e5b",
   "metadata": {
    "scrolled": true
   },
   "outputs": [
    {
     "name": "stdout",
     "output_type": "stream",
     "text": [
      "[[24, 211, 178, 93, 63, 6, 134, 123, 170, 180, 36, 45, 69, 167, 135, 16, 172, 73, 105, 161, 110, 153, 32, 100, 150, 158, 37, 35, 98, 179], [107, 219, 50, 55, 115, 154, 1, 180, 115, 127, 127, 204, 89, 66, 121, 0, 6, 102, 81, 8, 97, 25, 123, 36, 16, 39, 10, 129, 183, 135], [149, 58, 109, 115, 139, 96, 211, 87, 128, 99, 190, 75, 15, 153, 18, 145, 198, 167, 125, 131, 60, 38, 109, 81, 166, 100, 220, 26, 99, 200], [51, 26, 145, 70, 48, 150, 118, 178, 56, 220, 68, 103, 130, 166, 133, 60, 50, 208, 216, 177, 14, 144, 106, 190, 40, 198, 111, 186, 211, 87], [168, 103, 176, 144, 1, 156, 171, 144, 136, 32, 200, 102, 94, 125, 114, 72, 77, 164, 70, 126, 186, 182, 97, 119, 156, 45, 10, 174, 176, 178], [165, 208, 137, 208, 196, 123, 4, 97, 196, 25, 50, 116, 68, 163, 96, 97, 134, 102, 195, 176, 127, 198, 137, 102, 60, 31, 81, 111, 41, 133], [0, 136, 76, 176, 131, 67, 201, 211, 86, 120, 197, 175, 134, 57, 137, 62, 174, 60, 3, 4, 126, 176, 215, 109, 176, 104, 222, 96, 47, 214], [80, 68, 6, 214, 188, 200, 10, 6, 144, 200, 126, 61, 151, 137, 83, 213, 187, 140, 34, 0, 167, 193, 55, 114, 137, 64, 22, 42, 53, 7], [38, 198, 97, 212, 148, 28, 161, 77, 215, 66, 215, 176, 88, 5, 36, 127, 89, 163, 87, 132, 193, 64, 151, 49, 185, 174, 137, 86, 3, 31], [32, 56, 13, 151, 152, 222, 108, 92, 123, 54, 57, 31, 197, 211, 216, 141, 111, 152, 104, 202, 154, 156, 69, 130, 58, 159, 23, 55, 81, 219], [109, 134, 215, 32, 105, 214, 116, 95, 61, 130, 129, 89, 112, 29, 156, 146, 17, 143, 147, 169, 113, 14, 141, 3, 19, 18, 214, 49, 38, 184], [77, 106, 15, 206, 38, 124, 68, 70, 173, 129, 10, 124, 129, 64, 73, 196, 0, 190, 49, 127, 139, 72, 90, 28, 96, 90, 118, 71, 93, 96], [129, 170, 111, 194, 78, 166, 214, 73, 216, 171, 124, 39, 120, 95, 70, 218, 96, 100, 144, 69, 91, 79, 111, 150, 54, 147, 156, 100, 200, 20], [91, 82, 148, 190, 142, 189, 118, 200, 138, 220, 79, 69, 119, 129, 45, 38, 135, 8, 86, 127, 67, 167, 97, 141, 200, 179, 101, 182, 138, 149], [46, 65, 204, 111, 37, 8, 146, 123, 156, 126, 40, 10, 0, 205, 130, 194, 37, 205, 1, 125, 144, 157, 22, 29, 57, 109, 147, 58, 222, 9], [195, 164, 105, 178, 140, 185, 13, 10, 112, 162, 153, 205, 149, 179, 139, 111, 109, 116, 146, 65, 121, 83, 72, 125, 36, 185, 48, 39, 206, 72], [112, 192, 205, 67, 111, 171, 27, 32, 162, 8, 10, 115, 22, 59, 138, 223, 26, 164, 207, 10, 207, 6, 23, 65, 191, 67, 88, 96, 177, 126], [150, 8, 78, 188, 219, 74, 158, 18, 152, 163, 154, 22, 111, 137, 131, 194, 119, 201, 155, 51, 24, 213, 12, 201, 146, 44, 36, 93, 214, 53], [56, 158, 219, 34, 128, 183, 166, 108, 57, 112, 183, 101, 194, 1, 186, 85, 173, 11, 112, 181, 91, 42, 106, 151, 49, 105, 2, 160, 127, 141], [141, 139, 166, 128, 109, 191, 123, 43, 51, 59, 83, 168, 71, 189, 127, 166, 149, 193, 11, 171, 102, 32, 147, 61, 45, 114, 216, 8, 63, 67], [1, 149, 212, 77, 187, 131, 117, 92, 15, 198, 108, 142, 142, 8, 88, 204, 64, 122, 90, 87, 20, 172, 1, 166, 35, 222, 14, 4, 130, 78], [117, 208, 204, 198, 126, 137, 93, 160, 92, 153, 54, 11, 61, 178, 185, 193, 101, 81, 30, 136, 8, 43, 159, 123, 149, 89, 179, 185, 197, 125], [193, 197, 158, 181, 80, 174, 168, 87, 105, 78, 156, 43, 205, 215, 61, 143, 21, 177, 100, 5, 11, 30, 51, 167, 83, 87, 27, 87, 195, 20], [105, 173, 33, 148, 202, 23, 71, 195, 11, 169, 38, 125, 115, 86, 188, 71, 161, 108, 5, 82, 153, 107, 161, 146, 44, 124, 166, 111, 204, 124], [192, 103, 61, 167, 148, 52, 123, 203, 39, 156, 114, 117, 84, 50, 115, 220, 107, 185, 145, 153, 189, 140, 116, 127, 154, 69, 0, 56, 96, 154], [125, 138, 99, 54, 122, 217, 23, 87, 35, 98, 76, 213, 121, 131, 107, 220, 185, 194, 56, 129, 171, 126, 69, 199, 6, 48, 28, 79, 205, 3], [180, 8, 115, 137, 209, 107, 130, 181, 75, 195, 19, 73, 46, 5, 193, 113, 149, 56, 178, 171, 50, 177, 171, 116, 63, 197, 24, 197, 135, 6], [104, 213, 22, 143, 41, 77, 160, 72, 217, 8, 202, 39, 221, 127, 93, 164, 83, 5, 167, 138, 43, 64, 215, 107, 174, 181, 3, 121, 83, 105], [86, 120, 19, 137, 127, 67, 123, 106, 217, 28, 202, 95, 63, 164, 112, 77, 179, 153, 205, 130, 5, 175, 106, 201, 164, 184, 197, 34, 220, 180], [87, 153, 142, 63, 38, 148, 85, 127, 213, 146, 167, 154, 186, 78, 150, 165, 167, 221, 161, 24, 17, 51, 39, 153, 129, 73, 99, 119, 76, 144]]\n"
     ]
    }
   ],
   "source": [
    "array_7 = [[rd.randint(0, 223) for i in range(20)] for j in range(15)]\n",
    "print(array_6)\n",
    "\n",
    "# No se pueden multiplicar array_6 y array_7 por sus dimensiones, por lo que hay que hacer una comprobacion antes de multiplicar"
   ]
  },
  {
   "cell_type": "code",
   "execution_count": 38,
   "id": "cdae475d-0240-48f4-b96f-96caa4d840af",
   "metadata": {},
   "outputs": [
    {
     "data": {
      "text/plain": [
       "30"
      ]
     },
     "execution_count": 38,
     "metadata": {},
     "output_type": "execute_result"
    }
   ],
   "source": [
    "len(array_6)"
   ]
  },
  {
   "cell_type": "code",
   "execution_count": 43,
   "id": "31431afc-166b-43e7-9746-cd6f91d669bd",
   "metadata": {},
   "outputs": [
    {
     "name": "stdout",
     "output_type": "stream",
     "text": [
      "La matriz array_6 NO se puede multiplicar por la array_7\n"
     ]
    }
   ],
   "source": [
    "if len(array_6[0]) == len(array_7):\n",
    "    print(\"La matriz array_6 se puede multiplicar por la array_7\")\n",
    "else:\n",
    "    print(\"La matriz array_6 NO se puede multiplicar por la array_7\")"
   ]
  },
  {
   "cell_type": "code",
   "execution_count": 88,
   "id": "7d3b670f-1b49-4265-89e5-ac56337308e6",
   "metadata": {},
   "outputs": [
    {
     "name": "stdin",
     "output_type": "stream",
     "text": [
      "Ingrese las filas de A 10\n"
     ]
    }
   ],
   "source": [
    "fila_A = int(input(\"Ingrese las filas de A\"))"
   ]
  },
  {
   "cell_type": "code",
   "execution_count": 78,
   "id": "fc17d833-5739-4c8d-81e6-e00598563f13",
   "metadata": {},
   "outputs": [
    {
     "name": "stdin",
     "output_type": "stream",
     "text": [
      "Ingrese las columnas de A 10\n"
     ]
    }
   ],
   "source": [
    "columnas_A = int(input(\"Ingrese las columnas de A\"))"
   ]
  },
  {
   "cell_type": "code",
   "execution_count": 83,
   "id": "bca0e05d-411c-4cf8-a178-ffe6b1a776f5",
   "metadata": {},
   "outputs": [
    {
     "name": "stdin",
     "output_type": "stream",
     "text": [
      "Ingrese las filas de B 10\n"
     ]
    }
   ],
   "source": [
    "fila_B = int(input(\"Ingrese las filas de B\"))"
   ]
  },
  {
   "cell_type": "code",
   "execution_count": 89,
   "id": "7868c7ee-a56d-489c-aa7f-a67e46ca55d5",
   "metadata": {},
   "outputs": [
    {
     "name": "stdin",
     "output_type": "stream",
     "text": [
      "Ingrese las columnas de B 10\n"
     ]
    }
   ],
   "source": [
    "columnas_B = int(input(\"Ingrese las columnas de B\"))"
   ]
  },
  {
   "cell_type": "code",
   "execution_count": 90,
   "id": "6e5b7918-0b5a-4464-9a14-ab34c1cbcdd2",
   "metadata": {},
   "outputs": [
    {
     "name": "stdout",
     "output_type": "stream",
     "text": [
      "Las dimensiones introducidas son: A [ 10 , 10 ] B [ 10 , 10 ]\n"
     ]
    }
   ],
   "source": [
    "print(\"Las dimensiones introducidas son: A [\" , fila_A , \",\" , columnas_A , \"] B [\" , fila_B , \",\" , columnas_B , \"]\")"
   ]
  },
  {
   "cell_type": "code",
   "execution_count": 91,
   "id": "eb85a8f9-5778-4381-b40b-b372730aa9e0",
   "metadata": {},
   "outputs": [],
   "source": [
    "A = [[rd.randint(0, 223) for i in range(fila_A)] for j in range(columnas_A)]\n",
    "B = [[rd.randint(0, 223) for i in range(fila_B)] for j in range(columnas_B)]"
   ]
  },
  {
   "cell_type": "code",
   "execution_count": 92,
   "id": "d1e5e0f0-1eb4-45c1-a302-10bb21f5b47f",
   "metadata": {},
   "outputs": [],
   "source": [
    "def mulSequencial(A, B):\n",
    "    if len(A[0]) == len(B):\n",
    "        print(\"La matriz A se puede multiplicar por la B\")\n",
    "    else:\n",
    "        print(\"La matriz A NO se puede multiplicar por la B\")"
   ]
  },
  {
   "cell_type": "code",
   "execution_count": 93,
   "id": "a948516a-45f7-4688-a435-c5a13971c889",
   "metadata": {},
   "outputs": [
    {
     "name": "stdout",
     "output_type": "stream",
     "text": [
      "La matriz A se puede multiplicar por la B\n"
     ]
    }
   ],
   "source": [
    "mulSequencial(A, B)"
   ]
  },
  {
   "cell_type": "code",
   "execution_count": 28,
   "id": "1d9759c4-b4d1-4aa8-ac4d-64591695ec10",
   "metadata": {},
   "outputs": [
    {
     "data": {
      "text/plain": [
       "array([[163, 141, 157, ..., 138,  89,  54],\n",
       "       [ 26,  12, 190, ...,  66,  88, 201],\n",
       "       [105, 128, 178, ...,   4,  38, 204],\n",
       "       ...,\n",
       "       [221,  67,  20, ..., 198,  25, 104],\n",
       "       [217, 142, 132, ..., 196, 110,   6],\n",
       "       [  9, 186, 215, ...,  43, 126,  86]])"
      ]
     },
     "execution_count": 28,
     "metadata": {},
     "output_type": "execute_result"
    }
   ],
   "source": [
    "#Crea una matriz de 300X300 que tenga dentro numeros aleatorios de 0 a los 3 primeros numeros del expediente (222) (Con np)\n",
    "arrayRandomConNumpy = np.random.randint(0, 223, size = (300, 300))\n",
    "arrayRandomConNumpy"
   ]
  },
  {
   "cell_type": "code",
   "execution_count": 50,
   "id": "e395aadc-8ebd-417b-82ce-ba54adbe2268",
   "metadata": {},
   "outputs": [],
   "source": [
    "import multiprocessing as mp"
   ]
  },
  {
   "cell_type": "code",
   "execution_count": null,
   "id": "9e76e912-e51a-4a1d-b4a8-acf5a013bebe",
   "metadata": {},
   "outputs": [],
   "source": [
    "mp."
   ]
  },
  {
   "cell_type": "markdown",
   "id": "1667f397",
   "metadata": {},
   "source": [
    "#### Tipos de datos para ndarray\n",
    "\n",
    "Los tipos de datos son una de las partes que hace a NumPy tan\n",
    "flexible. En la mayoría de los casos, estos tipos de datos tienen un\n",
    "mapeo directo con su representación en memoria, facilitando a la\n",
    "máquina la lectura y escritura de los mismos."
   ]
  },
  {
   "cell_type": "code",
   "execution_count": 7,
   "id": "8686af51",
   "metadata": {},
   "outputs": [
    {
     "data": {
      "text/plain": [
       "array([1., 2., 3.])"
      ]
     },
     "execution_count": 7,
     "metadata": {},
     "output_type": "execute_result"
    }
   ],
   "source": [
    "arr1 = np.array([1, 2, 3], dtype=np.float64)\n",
    "arr1"
   ]
  },
  {
   "cell_type": "code",
   "execution_count": 9,
   "id": "fb3e0453",
   "metadata": {},
   "outputs": [
    {
     "data": {
      "text/plain": [
       "array([  1,   2,  44, -12], dtype=int8)"
      ]
     },
     "execution_count": 9,
     "metadata": {},
     "output_type": "execute_result"
    }
   ],
   "source": [
    "arr2 = np.array([1, 2, 300, 500], dtype=np.int8)\n",
    "arr2"
   ]
  },
  {
   "cell_type": "code",
   "execution_count": 10,
   "id": "c8e2e684",
   "metadata": {},
   "outputs": [
    {
     "name": "stdout",
     "output_type": "stream",
     "text": [
      "Machine parameters for int64\n",
      "---------------------------------------------------------------\n",
      "min = -9223372036854775808\n",
      "max = 9223372036854775807\n",
      "---------------------------------------------------------------\n",
      "\n",
      "Machine parameters for int8\n",
      "---------------------------------------------------------------\n",
      "min = -128\n",
      "max = 127\n",
      "---------------------------------------------------------------\n",
      "\n",
      "Machine parameters for int16\n",
      "---------------------------------------------------------------\n",
      "min = -32768\n",
      "max = 32767\n",
      "---------------------------------------------------------------\n",
      "\n",
      "Machine parameters for int32\n",
      "---------------------------------------------------------------\n",
      "min = -2147483648\n",
      "max = 2147483647\n",
      "---------------------------------------------------------------\n",
      "\n",
      "Machine parameters for int64\n",
      "---------------------------------------------------------------\n",
      "min = -9223372036854775808\n",
      "max = 9223372036854775807\n",
      "---------------------------------------------------------------\n",
      "\n"
     ]
    }
   ],
   "source": [
    "tipos = [int, np.int8, np.int16, np.int32, np.int64]\n",
    "for k in tipos:\n",
    "    print(np.iinfo(k))"
   ]
  },
  {
   "cell_type": "code",
   "execution_count": 11,
   "id": "cf5cad1e",
   "metadata": {},
   "outputs": [
    {
     "name": "stdout",
     "output_type": "stream",
     "text": [
      "Machine parameters for float64\n",
      "---------------------------------------------------------------\n",
      "precision =  15   resolution = 1.0000000000000001e-15\n",
      "machep =    -52   eps =        2.2204460492503131e-16\n",
      "negep =     -53   epsneg =     1.1102230246251565e-16\n",
      "minexp =  -1022   tiny =       2.2250738585072014e-308\n",
      "maxexp =   1024   max =        1.7976931348623157e+308\n",
      "nexp =       11   min =        -max\n",
      "---------------------------------------------------------------\n",
      "\n",
      "Machine parameters for float16\n",
      "---------------------------------------------------------------\n",
      "precision =   3   resolution = 1.00040e-03\n",
      "machep =    -10   eps =        9.76562e-04\n",
      "negep =     -11   epsneg =     4.88281e-04\n",
      "minexp =    -14   tiny =       6.10352e-05\n",
      "maxexp =     16   max =        6.55040e+04\n",
      "nexp =        5   min =        -max\n",
      "---------------------------------------------------------------\n",
      "\n",
      "Machine parameters for float32\n",
      "---------------------------------------------------------------\n",
      "precision =   6   resolution = 1.0000000e-06\n",
      "machep =    -23   eps =        1.1920929e-07\n",
      "negep =     -24   epsneg =     5.9604645e-08\n",
      "minexp =   -126   tiny =       1.1754944e-38\n",
      "maxexp =    128   max =        3.4028235e+38\n",
      "nexp =        8   min =        -max\n",
      "---------------------------------------------------------------\n",
      "\n",
      "Machine parameters for float64\n",
      "---------------------------------------------------------------\n",
      "precision =  15   resolution = 1.0000000000000001e-15\n",
      "machep =    -52   eps =        2.2204460492503131e-16\n",
      "negep =     -53   epsneg =     1.1102230246251565e-16\n",
      "minexp =  -1022   tiny =       2.2250738585072014e-308\n",
      "maxexp =   1024   max =        1.7976931348623157e+308\n",
      "nexp =       11   min =        -max\n",
      "---------------------------------------------------------------\n",
      "\n",
      "Machine parameters for float128\n",
      "---------------------------------------------------------------\n",
      "precision =  18   resolution = 1.0000000000000000715e-18\n",
      "machep =    -63   eps =        1.084202172485504434e-19\n",
      "negep =     -64   epsneg =     5.42101086242752217e-20\n",
      "minexp = -16382   tiny =       3.3621031431120935063e-4932\n",
      "maxexp =  16384   max =        1.189731495357231765e+4932\n",
      "nexp =       15   min =        -max\n",
      "---------------------------------------------------------------\n",
      "\n"
     ]
    }
   ],
   "source": [
    "tipos_float = [float, np.float16, np.float32, np.float64, np.float128]\n",
    "for s in tipos_float:\n",
    "    print(np.finfo(s))"
   ]
  },
  {
   "cell_type": "code",
   "execution_count": null,
   "id": "aa95806f",
   "metadata": {},
   "outputs": [],
   "source": [
    "tipos_complex = [complex, np.complex64, np.complex128, np.complex256]\n",
    "for s in tipos_complex:\n",
    "    print(np.finfo(s))"
   ]
  },
  {
   "cell_type": "markdown",
   "id": "2f6ca087",
   "metadata": {},
   "source": [
    "### Atributos de un array\n",
    "\n",
    "Existen varios atributos y funciones que describen las características de un array.\n",
    "\n",
    "**a.ndim** : Devuelve el número de dimensiones del array a.\n",
    "\n",
    "**a.shape**: Devuelve una tupla con las dimensiones del array a.\n",
    "\n",
    "**a.size** : Devuelve el número de elementos del array a.\n",
    "\n",
    "**a.dtype**: Devuelve el tipo de datos de los elementos del array a."
   ]
  },
  {
   "cell_type": "code",
   "execution_count": 12,
   "id": "f7ab500b",
   "metadata": {},
   "outputs": [
    {
     "name": "stdout",
     "output_type": "stream",
     "text": [
      "0\n",
      "1\n",
      "2\n",
      "3\n"
     ]
    }
   ],
   "source": [
    "print(array_0.ndim)\n",
    "print(array_1.ndim)\n",
    "print(array_2.ndim)\n",
    "print(array_3.ndim)"
   ]
  },
  {
   "cell_type": "code",
   "execution_count": 13,
   "id": "02ca13ae",
   "metadata": {},
   "outputs": [
    {
     "name": "stdout",
     "output_type": "stream",
     "text": [
      "()\n",
      "(6,)\n",
      "(2, 6)\n",
      "(2, 2, 6)\n"
     ]
    }
   ],
   "source": [
    "print(array_0.shape)\n",
    "print(array_1.shape)\n",
    "print(array_2.shape)\n",
    "print(array_3.shape)"
   ]
  },
  {
   "cell_type": "code",
   "execution_count": 14,
   "id": "d60348ed",
   "metadata": {},
   "outputs": [
    {
     "name": "stdout",
     "output_type": "stream",
     "text": [
      "1\n",
      "6\n",
      "12\n",
      "24\n"
     ]
    }
   ],
   "source": [
    "print(array_0.size)\n",
    "print(array_1.size)\n",
    "print(array_2.size)\n",
    "print(array_3.size)"
   ]
  },
  {
   "cell_type": "code",
   "execution_count": 15,
   "id": "37b20f3b",
   "metadata": {},
   "outputs": [
    {
     "name": "stdout",
     "output_type": "stream",
     "text": [
      "int64\n",
      "int64\n",
      "int64\n",
      "int64\n"
     ]
    }
   ],
   "source": [
    "print(array_0.dtype)\n",
    "print(array_1.dtype)\n",
    "print(array_2.dtype)\n",
    "print(array_3.dtype)"
   ]
  },
  {
   "cell_type": "markdown",
   "id": "a8a0f927",
   "metadata": {},
   "source": [
    "- Reshape: Da una nueva forma a un array sin cambiar sus datos\n",
    "\n",
    "\n",
    "Como apunte importante, cuando usamos el método reshape el\n",
    "número total de elementos en el array tras aplicar la\n",
    "transformación debe ser el mismo. De esta forma, se nos permite\n",
    "transformar un array con 4 filas y 5 columnas en uno con 10 filas y\n",
    "2 columnas pero no en uno con 5 filas y 5 columnas.\n",
    "\n",
    "\n",
    "https://numpy.org/doc/stable/reference/generated/numpy.reshape.html"
   ]
  },
  {
   "cell_type": "code",
   "execution_count": 16,
   "id": "60613cca",
   "metadata": {},
   "outputs": [
    {
     "data": {
      "text/plain": [
       "array([[[  1,   2,   3,   5,   7,  11],\n",
       "        [  1,   4,   9,  25,  49, 121]],\n",
       "\n",
       "       [[  1,   2,   3,   5,   7,  11],\n",
       "        [  1,   4,   9,  25,  49, 121]]])"
      ]
     },
     "execution_count": 16,
     "metadata": {},
     "output_type": "execute_result"
    }
   ],
   "source": [
    "array_3"
   ]
  },
  {
   "cell_type": "code",
   "execution_count": null,
   "id": "2b5b2817",
   "metadata": {},
   "outputs": [],
   "source": [
    "array_3.shape"
   ]
  },
  {
   "cell_type": "code",
   "execution_count": 17,
   "id": "893319d1",
   "metadata": {},
   "outputs": [
    {
     "data": {
      "text/plain": [
       "array([[  1,   2,   3,   5],\n",
       "       [  7,  11,   1,   4],\n",
       "       [  9,  25,  49, 121],\n",
       "       [  1,   2,   3,   5],\n",
       "       [  7,  11,   1,   4],\n",
       "       [  9,  25,  49, 121]])"
      ]
     },
     "execution_count": 17,
     "metadata": {},
     "output_type": "execute_result"
    }
   ],
   "source": [
    "array_3.reshape(6,4)"
   ]
  },
  {
   "cell_type": "code",
   "execution_count": 18,
   "id": "9ef4b832",
   "metadata": {},
   "outputs": [
    {
     "data": {
      "text/plain": [
       "array([[  1],\n",
       "       [  2],\n",
       "       [  3],\n",
       "       [  5],\n",
       "       [  7],\n",
       "       [ 11],\n",
       "       [  1],\n",
       "       [  4],\n",
       "       [  9],\n",
       "       [ 25],\n",
       "       [ 49],\n",
       "       [121],\n",
       "       [  1],\n",
       "       [  2],\n",
       "       [  3],\n",
       "       [  5],\n",
       "       [  7],\n",
       "       [ 11],\n",
       "       [  1],\n",
       "       [  4],\n",
       "       [  9],\n",
       "       [ 25],\n",
       "       [ 49],\n",
       "       [121]])"
      ]
     },
     "execution_count": 18,
     "metadata": {},
     "output_type": "execute_result"
    }
   ],
   "source": [
    "array_3.reshape(24,1)"
   ]
  },
  {
   "cell_type": "markdown",
   "id": "72dfd630",
   "metadata": {},
   "source": [
    "**np.empty(dimensiones)**: Crea y devuelve una referencia a un array vacío con las dimensiones especificadas en la tupla dimensiones.\n",
    "\n",
    "**np.zeros(dimensiones)** : Crea y devuelve una referencia a un array con las dimensiones especificadas en la tupla dimensiones cuyos elementos son todos ceros.\n",
    "\n",
    "**np.ones(dimensiones)** : Crea y devuelve una referencia a un array con las dimensiones especificadas en la tupla dimensiones cuyos elementos son todos unos.\n",
    "\n",
    "**np.full(dimensiones, valor)** : Crea y devuelve una referencia a un array con las dimensiones especificadas en la tupla dimensiones cuyos elementos son todos valor.\n",
    "\n",
    "**np.identity(n)** : Crea y devuelve una referencia a la matriz identidad de dimensión n.\n",
    "\n",
    "**np.arange(inicio, fin, salto)** : Crea y devuelve una referencia a un array de una dimensión cuyos elementos son la secuencia desde inicio hasta fin tomando valores cada salto.\n",
    "\n",
    "**np.linspace(inicio, fin, n)** : Crea y devuelve una referencia a un array de una dimensión cuyos elementos son la secuencia de n valores equidistantes desde inicio hasta fin.\n",
    "\n",
    "**np.random.randn(dimensiones)** : Crea y devuelve una referencia a un array con las dimensiones especificadas en la tupla dimensiones cuyos elementos son aleatorios."
   ]
  },
  {
   "cell_type": "markdown",
   "id": "a6c28af4",
   "metadata": {},
   "source": [
    "### Indexacion\n",
    "\n",
    "##### Introducción: Acceso a los elementos de un array\n",
    "\n",
    "Al igual que para listas, **los índices de cada dimensión comienzan en 0**.\n",
    "\n",
    "También es posible obtener **subarrays** con el operador dos puntos : indicando el índice inicial y el siguiente al final para cada dimensión, de nuevo separados por comas."
   ]
  },
  {
   "cell_type": "code",
   "execution_count": 19,
   "id": "c384a738",
   "metadata": {},
   "outputs": [
    {
     "data": {
      "text/plain": [
       "array([[[  1,   2,   3,   5,   7,  11],\n",
       "        [  1,   4,   9,  25,  49, 121]],\n",
       "\n",
       "       [[  1,   2,   3,   5,   7,  11],\n",
       "        [  1,   4,   9,  25,  49, 121]]])"
      ]
     },
     "execution_count": 19,
     "metadata": {},
     "output_type": "execute_result"
    }
   ],
   "source": [
    "array_3"
   ]
  },
  {
   "cell_type": "code",
   "execution_count": 20,
   "id": "4d91e01f",
   "metadata": {},
   "outputs": [
    {
     "data": {
      "text/plain": [
       "(2, 2, 6)"
      ]
     },
     "execution_count": 20,
     "metadata": {},
     "output_type": "execute_result"
    }
   ],
   "source": [
    "array_3.shape"
   ]
  },
  {
   "cell_type": "code",
   "execution_count": 21,
   "id": "f6e2b9ed",
   "metadata": {},
   "outputs": [
    {
     "data": {
      "text/plain": [
       "array([[  1,   2,   3,   5,   7,  11],\n",
       "       [  1,   4,   9,  25,  49, 121]])"
      ]
     },
     "execution_count": 21,
     "metadata": {},
     "output_type": "execute_result"
    }
   ],
   "source": [
    "array_3[0] # bloque 1"
   ]
  },
  {
   "cell_type": "code",
   "execution_count": 22,
   "id": "ca33081c",
   "metadata": {},
   "outputs": [
    {
     "data": {
      "text/plain": [
       "array([  1,   4,   9,  25,  49, 121])"
      ]
     },
     "execution_count": 22,
     "metadata": {},
     "output_type": "execute_result"
    }
   ],
   "source": [
    "array_3[0,1]  # bloque 1 segunda lista"
   ]
  },
  {
   "cell_type": "code",
   "execution_count": 23,
   "id": "cf3a25b0",
   "metadata": {},
   "outputs": [
    {
     "data": {
      "text/plain": [
       "9"
      ]
     },
     "execution_count": 23,
     "metadata": {},
     "output_type": "execute_result"
    }
   ],
   "source": [
    "array_3[0,1,2] ## bloque 1, segunda lista, tercer elemento"
   ]
  },
  {
   "cell_type": "code",
   "execution_count": 24,
   "id": "75a808ad",
   "metadata": {},
   "outputs": [
    {
     "data": {
      "text/plain": [
       "9"
      ]
     },
     "execution_count": 24,
     "metadata": {},
     "output_type": "execute_result"
    }
   ],
   "source": [
    "# otra forma de acceder\n",
    "array_3[0][1][2]"
   ]
  },
  {
   "cell_type": "code",
   "execution_count": 25,
   "id": "ab4664ed",
   "metadata": {},
   "outputs": [
    {
     "name": "stdout",
     "output_type": "stream",
     "text": [
      "[[[ 1  2  3  5  7 11]]\n",
      "\n",
      " [[ 1  2  3  5  7 11]]]\n"
     ]
    }
   ],
   "source": [
    "## subarray\n",
    "print(array_3[:, 0:1])"
   ]
  },
  {
   "cell_type": "markdown",
   "id": "c0337112",
   "metadata": {},
   "source": [
    "**Una diferencia importante respecto a las listas en Python, es que\n",
    "la seleccion de elementos es una vista del array original. Es decir,\n",
    "el subconjunto no es copiado, por lo que cualquier modificacion\n",
    "afecta al array original.**\n",
    "\n",
    "*Esta forma de trabajar es debido a que NumPy esta ideado para tratar conjuntos de datos de gran volumen. En caso de que queramos copiar una seleccion, podemos usar el metodo `copy()`.* \n",
    "\n",
    "\n",
    "- Otro tipo de indexacion que es muy util es la indexacion por medio\n",
    "de booleanos. Veamos un ejemplo:\n",
    "\n",
    "**a[condicion]** : Devuelve una lista con los elementos del array a que cumplen la condición condicion.\n"
   ]
  },
  {
   "cell_type": "code",
   "execution_count": 26,
   "id": "22624ae0",
   "metadata": {},
   "outputs": [
    {
     "data": {
      "text/plain": [
       "array(['Pepe', 'Jose', 'Maria', 'Pepe', 'Maria', 'Jose', 'Jose'],\n",
       "      dtype='<U5')"
      ]
     },
     "execution_count": 26,
     "metadata": {},
     "output_type": "execute_result"
    }
   ],
   "source": [
    "names = np.array([\"Pepe\", \"Jose\", \"Maria\", \"Pepe\", \"Maria\", \"Jose\", \"Jose\"])\n",
    "names"
   ]
  },
  {
   "cell_type": "code",
   "execution_count": 42,
   "id": "6d4845ec",
   "metadata": {},
   "outputs": [
    {
     "data": {
      "text/plain": [
       "array([[ 0.57454838,  2.123534  ,  1.01418016,  2.15126578],\n",
       "       [ 1.21197373,  0.29534922,  0.27594548, -0.41954457],\n",
       "       [ 0.74817958,  1.39504179, -0.10449311,  0.82860522],\n",
       "       [-1.58020959, -1.77050887,  0.4372242 ,  0.35059513],\n",
       "       [-1.13053476, -0.36441717, -1.40842768,  0.60150272],\n",
       "       [ 1.25166816,  1.16938243,  1.85723251, -0.46838527],\n",
       "       [ 0.71005332, -2.24593951,  0.03320989,  1.85759577]])"
      ]
     },
     "execution_count": 42,
     "metadata": {},
     "output_type": "execute_result"
    }
   ],
   "source": [
    "data = np.random.randn(7, 4)\n",
    "data"
   ]
  },
  {
   "cell_type": "code",
   "execution_count": 38,
   "id": "1775dbd1",
   "metadata": {},
   "outputs": [
    {
     "data": {
      "text/plain": [
       "array([[ 1.87781792,  0.30644066, -1.59044176,  0.81934331],\n",
       "       [ 2.39509025,  0.70777226,  2.20650932,  1.13021106],\n",
       "       [ 1.50554529, -0.20956051,  1.34041857,  1.34045546],\n",
       "       [ 1.96765339,  1.57470756,  0.45670651,  1.72059361],\n",
       "       [ 1.56100206,  1.26494754,  0.15237735,  2.1238234 ],\n",
       "       [ 0.43762465,  1.74094328,  1.28188554,  0.2203496 ],\n",
       "       [ 1.38763423, -0.13235604,  0.35931616, -0.4991419 ]])"
      ]
     },
     "execution_count": 38,
     "metadata": {},
     "output_type": "execute_result"
    }
   ],
   "source": [
    "data + 1"
   ]
  },
  {
   "cell_type": "code",
   "execution_count": 36,
   "id": "ebd5fd6b",
   "metadata": {},
   "outputs": [
    {
     "data": {
      "text/plain": [
       "['Pepe', 'Jose', 'Maria', 'Pepe', 'Maria', 'Jose', 'Jose']"
      ]
     },
     "execution_count": 36,
     "metadata": {},
     "output_type": "execute_result"
    }
   ],
   "source": [
    "lista = [\"Pepe\", \"Jose\", \"Maria\", \"Pepe\", \"Maria\", \"Jose\", \"Jose\"];lista"
   ]
  },
  {
   "cell_type": "code",
   "execution_count": 37,
   "id": "0badc1f8",
   "metadata": {},
   "outputs": [
    {
     "data": {
      "text/plain": [
       "False"
      ]
     },
     "execution_count": 37,
     "metadata": {},
     "output_type": "execute_result"
    }
   ],
   "source": [
    "lista == 'Pepe'"
   ]
  },
  {
   "cell_type": "code",
   "execution_count": 28,
   "id": "df08a1cf",
   "metadata": {},
   "outputs": [],
   "source": [
    "filtro = names == 'Pepe'"
   ]
  },
  {
   "cell_type": "code",
   "execution_count": 29,
   "id": "69e21eb4",
   "metadata": {},
   "outputs": [
    {
     "data": {
      "text/plain": [
       "array([ True, False, False,  True, False, False, False])"
      ]
     },
     "execution_count": 29,
     "metadata": {},
     "output_type": "execute_result"
    }
   ],
   "source": [
    "filtro"
   ]
  },
  {
   "cell_type": "code",
   "execution_count": 43,
   "id": "131495f3",
   "metadata": {},
   "outputs": [],
   "source": [
    "data[filtro] = data[filtro] + 1"
   ]
  },
  {
   "cell_type": "code",
   "execution_count": 44,
   "id": "7c92d82d",
   "metadata": {},
   "outputs": [
    {
     "data": {
      "text/plain": [
       "array([[ 1.57454838,  3.123534  ,  2.01418016,  3.15126578],\n",
       "       [ 1.21197373,  0.29534922,  0.27594548, -0.41954457],\n",
       "       [ 0.74817958,  1.39504179, -0.10449311,  0.82860522],\n",
       "       [-0.58020959, -0.77050887,  1.4372242 ,  1.35059513],\n",
       "       [-1.13053476, -0.36441717, -1.40842768,  0.60150272],\n",
       "       [ 1.25166816,  1.16938243,  1.85723251, -0.46838527],\n",
       "       [ 0.71005332, -2.24593951,  0.03320989,  1.85759577]])"
      ]
     },
     "execution_count": 44,
     "metadata": {},
     "output_type": "execute_result"
    }
   ],
   "source": [
    "data"
   ]
  },
  {
   "cell_type": "markdown",
   "id": "b11369b9",
   "metadata": {},
   "source": [
    "Como vemos, podemos filtrar los resultados dependiendo de si se\n",
    "cumple o no la condicion que queramos. Una condicion\n",
    "indispensable es que el array de booleanos debe tener el mismo\n",
    "tamaño que el array de datos.\n",
    "\n",
    "Ademas, podemos unir nuestro filtrado con booleanos con el otro\n",
    "tipo de indexacion visto previamente"
   ]
  },
  {
   "cell_type": "code",
   "execution_count": 31,
   "id": "56d8686e",
   "metadata": {},
   "outputs": [
    {
     "data": {
      "text/plain": [
       "array([[ 0.87781792, -0.69355934, -2.59044176, -0.18065669],\n",
       "       [ 1.39509025, -0.29222774,  1.20650932,  0.13021106],\n",
       "       [ 0.50554529, -1.20956051,  0.34041857,  0.34045546],\n",
       "       [ 0.96765339,  0.57470756, -0.54329349,  0.72059361],\n",
       "       [ 0.56100206,  0.26494754, -0.84762265,  1.1238234 ],\n",
       "       [-0.56237535,  0.74094328,  0.28188554, -0.7796504 ],\n",
       "       [ 0.38763423, -1.13235604, -0.64068384, -1.4991419 ]])"
      ]
     },
     "execution_count": 31,
     "metadata": {},
     "output_type": "execute_result"
    }
   ],
   "source": [
    "data"
   ]
  },
  {
   "cell_type": "code",
   "execution_count": 32,
   "id": "7c5ee984",
   "metadata": {},
   "outputs": [],
   "source": [
    "filtro2 = data > 0"
   ]
  },
  {
   "cell_type": "code",
   "execution_count": 33,
   "id": "ae5fa0e3",
   "metadata": {},
   "outputs": [
    {
     "data": {
      "text/plain": [
       "array([[ True, False, False, False],\n",
       "       [ True, False,  True,  True],\n",
       "       [ True, False,  True,  True],\n",
       "       [ True,  True, False,  True],\n",
       "       [ True,  True, False,  True],\n",
       "       [False,  True,  True, False],\n",
       "       [ True, False, False, False]])"
      ]
     },
     "execution_count": 33,
     "metadata": {},
     "output_type": "execute_result"
    }
   ],
   "source": [
    "filtro2"
   ]
  },
  {
   "cell_type": "code",
   "execution_count": 34,
   "id": "c7ae591f",
   "metadata": {},
   "outputs": [
    {
     "data": {
      "text/plain": [
       "array([0.87781792, 1.39509025, 1.20650932, 0.13021106, 0.50554529,\n",
       "       0.34041857, 0.34045546, 0.96765339, 0.57470756, 0.72059361,\n",
       "       0.56100206, 0.26494754, 1.1238234 , 0.74094328, 0.28188554,\n",
       "       0.38763423])"
      ]
     },
     "execution_count": 34,
     "metadata": {},
     "output_type": "execute_result"
    }
   ],
   "source": [
    "data[filtro2]"
   ]
  },
  {
   "cell_type": "code",
   "execution_count": null,
   "id": "b1f38cdd",
   "metadata": {},
   "outputs": [],
   "source": []
  },
  {
   "cell_type": "code",
   "execution_count": 45,
   "id": "18d352fe",
   "metadata": {},
   "outputs": [
    {
     "data": {
      "text/plain": [
       "array([False, False, False, False, False, False, False])"
      ]
     },
     "execution_count": 45,
     "metadata": {},
     "output_type": "execute_result"
    }
   ],
   "source": [
    "filtro3 = (names == \"Bob\") | (names == \"Will\")\n",
    "filtro3"
   ]
  },
  {
   "cell_type": "code",
   "execution_count": null,
   "id": "cb0bda85",
   "metadata": {},
   "outputs": [],
   "source": [
    "data"
   ]
  },
  {
   "cell_type": "code",
   "execution_count": null,
   "id": "9706a46f",
   "metadata": {},
   "outputs": [],
   "source": [
    "data[filtro3]"
   ]
  },
  {
   "cell_type": "code",
   "execution_count": 46,
   "id": "e477aa0a",
   "metadata": {},
   "outputs": [
    {
     "data": {
      "text/plain": [
       "array([[ 1.57454838,  3.123534  ,  2.01418016,  3.15126578],\n",
       "       [ 7.        ,  7.        ,  7.        ,  7.        ],\n",
       "       [ 7.        ,  7.        ,  7.        ,  7.        ],\n",
       "       [-0.58020959, -0.77050887,  1.4372242 ,  1.35059513],\n",
       "       [ 7.        ,  7.        ,  7.        ,  7.        ],\n",
       "       [ 7.        ,  7.        ,  7.        ,  7.        ],\n",
       "       [ 7.        ,  7.        ,  7.        ,  7.        ]])"
      ]
     },
     "execution_count": 46,
     "metadata": {},
     "output_type": "execute_result"
    }
   ],
   "source": [
    "data[names != \"Pepe\"] = 7\n",
    "data"
   ]
  },
  {
   "cell_type": "markdown",
   "id": "17a1892d",
   "metadata": {},
   "source": [
    "### Slicing arrays\n",
    "\n",
    "Tomar elementos desde un índice dado a otro índice dado.\n",
    "\n",
    "**a[start:stop]** \n",
    "\n",
    "**a[start:]**    \n",
    "\n",
    "**a[:stop]**     \n",
    "\n",
    "**a[:]**   copia el array entero"
   ]
  },
  {
   "cell_type": "code",
   "execution_count": null,
   "id": "26681da6",
   "metadata": {},
   "outputs": [],
   "source": [
    "array_3"
   ]
  },
  {
   "cell_type": "code",
   "execution_count": null,
   "id": "b1dd8982",
   "metadata": {},
   "outputs": [],
   "source": [
    "array_3[0,1,0:3] ## del bloque 1, de la lista 2, los 3 primeros elementos"
   ]
  },
  {
   "cell_type": "code",
   "execution_count": null,
   "id": "7978902c",
   "metadata": {},
   "outputs": [],
   "source": [
    "array_1 = np.array([1, 2, 3, 5, 7, 11, 13, 17])\n",
    "print(array_1[0:3]) ## los 3 primeros elementos de este vector"
   ]
  },
  {
   "cell_type": "markdown",
   "id": "22fe8adb",
   "metadata": {},
   "source": [
    "### Operaciones matemáticas con arrays\n",
    "\n",
    "Existen dos formas de realizar operaciones matemáticas con arrays: **a nivel de elemento y a nivel de array**.\n",
    "\n",
    "Las operaciones a nivel de elemento operan los elementos que ocupan la misma posición en dos arrays. Se necesitan, por tanto, dos arrays con las mismas dimensiones y el resultado es una array de la misma dimensión.\n",
    "\n",
    "Los operadores mamemáticos +, -, *, /, %, ** se utilizan para la realizar suma, resta, producto, cociente, resto y potencia a nivel de elemento."
   ]
  },
  {
   "cell_type": "code",
   "execution_count": 47,
   "id": "90f3f2c4",
   "metadata": {},
   "outputs": [],
   "source": [
    "a = np.array([[1, 2, 3], [4, 5, 6]])\n",
    "b = np.array([[1, 1, 1], [2, 2, 2]])"
   ]
  },
  {
   "cell_type": "code",
   "execution_count": 48,
   "id": "67df1e7a",
   "metadata": {},
   "outputs": [
    {
     "data": {
      "text/plain": [
       "array([[1, 2, 3],\n",
       "       [4, 5, 6]])"
      ]
     },
     "execution_count": 48,
     "metadata": {},
     "output_type": "execute_result"
    }
   ],
   "source": [
    "a"
   ]
  },
  {
   "cell_type": "code",
   "execution_count": 49,
   "id": "7ecc17c0",
   "metadata": {},
   "outputs": [
    {
     "data": {
      "text/plain": [
       "array([[ 2,  4,  6],\n",
       "       [ 8, 10, 12]])"
      ]
     },
     "execution_count": 49,
     "metadata": {},
     "output_type": "execute_result"
    }
   ],
   "source": [
    "a*2"
   ]
  },
  {
   "cell_type": "code",
   "execution_count": 50,
   "id": "323bb68b",
   "metadata": {},
   "outputs": [
    {
     "data": {
      "text/plain": [
       "array([[1, 1, 1],\n",
       "       [2, 2, 2]])"
      ]
     },
     "execution_count": 50,
     "metadata": {},
     "output_type": "execute_result"
    }
   ],
   "source": [
    "b"
   ]
  },
  {
   "cell_type": "code",
   "execution_count": 51,
   "id": "37280860",
   "metadata": {},
   "outputs": [
    {
     "data": {
      "text/plain": [
       "array([[6, 6, 6],\n",
       "       [7, 7, 7]])"
      ]
     },
     "execution_count": 51,
     "metadata": {},
     "output_type": "execute_result"
    }
   ],
   "source": [
    "b+5"
   ]
  },
  {
   "cell_type": "code",
   "execution_count": 52,
   "id": "55dba6c4",
   "metadata": {},
   "outputs": [
    {
     "name": "stdout",
     "output_type": "stream",
     "text": [
      "[[2 3 4]\n",
      " [6 7 8]]\n"
     ]
    }
   ],
   "source": [
    "print(a + b)"
   ]
  },
  {
   "cell_type": "code",
   "execution_count": 53,
   "id": "61041d1e",
   "metadata": {},
   "outputs": [
    {
     "name": "stdout",
     "output_type": "stream",
     "text": [
      "[[1.  2.  3. ]\n",
      " [2.  2.5 3. ]]\n"
     ]
    }
   ],
   "source": [
    "print(a / b)"
   ]
  },
  {
   "cell_type": "code",
   "execution_count": 54,
   "id": "6021c59c",
   "metadata": {},
   "outputs": [
    {
     "name": "stdout",
     "output_type": "stream",
     "text": [
      "[[ 1  4  9]\n",
      " [16 25 36]]\n"
     ]
    }
   ],
   "source": [
    "print(a ** 2)"
   ]
  },
  {
   "cell_type": "markdown",
   "id": "6aa44a09",
   "metadata": {},
   "source": [
    "### Operaciones matemáticas a nivel de array\n",
    "\n",
    "Los arrays son importantes porque permiten expresar operaciones\n",
    "sobre muchos elementos sin la necesidad de escribir bucles. Esto es\n",
    "lo que se conoce como **vectorización.**\n",
    "\n",
    "Para realizar el producto matricial se utiliza el método\n",
    "\n",
    "**a.dot(b)** : Devuelve el array resultado del producto matricial de los arrays a y b siempre y cuando sus dimensiones sean compatibles.\n",
    "\n",
    "Y para trasponer una matriz se utiliza el método\n",
    "\n",
    "**a.T** : Devuelve el array resultado de trasponer el array a."
   ]
  },
  {
   "cell_type": "code",
   "execution_count": 55,
   "id": "20c19d61",
   "metadata": {},
   "outputs": [],
   "source": [
    "a = np.array([[1, 2, 3], [4, 5, 6]])\n",
    "b = np.array([[1, 1], [2, 2], [3, 3]])"
   ]
  },
  {
   "cell_type": "code",
   "execution_count": 57,
   "id": "38f965cf",
   "metadata": {},
   "outputs": [
    {
     "data": {
      "text/plain": [
       "array([[1, 2, 3],\n",
       "       [4, 5, 6]])"
      ]
     },
     "execution_count": 57,
     "metadata": {},
     "output_type": "execute_result"
    }
   ],
   "source": [
    "a"
   ]
  },
  {
   "cell_type": "code",
   "execution_count": 58,
   "id": "65629e69",
   "metadata": {},
   "outputs": [
    {
     "data": {
      "text/plain": [
       "array([[1, 1],\n",
       "       [2, 2],\n",
       "       [3, 3]])"
      ]
     },
     "execution_count": 58,
     "metadata": {},
     "output_type": "execute_result"
    }
   ],
   "source": [
    "b"
   ]
  },
  {
   "cell_type": "code",
   "execution_count": 56,
   "id": "3ff1b89d",
   "metadata": {},
   "outputs": [
    {
     "name": "stdout",
     "output_type": "stream",
     "text": [
      "[[14 14]\n",
      " [32 32]]\n"
     ]
    }
   ],
   "source": [
    "print(a.dot(b))"
   ]
  },
  {
   "cell_type": "code",
   "execution_count": 59,
   "id": "404f0f75",
   "metadata": {},
   "outputs": [
    {
     "data": {
      "text/plain": [
       "array([[1, 4],\n",
       "       [2, 5],\n",
       "       [3, 6]])"
      ]
     },
     "execution_count": 59,
     "metadata": {},
     "output_type": "execute_result"
    }
   ],
   "source": [
    "a.T"
   ]
  },
  {
   "cell_type": "code",
   "execution_count": 60,
   "id": "4a5d161f",
   "metadata": {},
   "outputs": [
    {
     "name": "stdout",
     "output_type": "stream",
     "text": [
      "(3, 2)\n"
     ]
    }
   ],
   "source": [
    "print(a.T.shape)"
   ]
  },
  {
   "cell_type": "markdown",
   "id": "e478bbe4",
   "metadata": {},
   "source": [
    "### Funciones universales de comparación"
   ]
  },
  {
   "cell_type": "code",
   "execution_count": 61,
   "id": "23db605c",
   "metadata": {},
   "outputs": [
    {
     "data": {
      "text/plain": [
       "array([[False, False,  True],\n",
       "       [False,  True,  True]])"
      ]
     },
     "execution_count": 61,
     "metadata": {},
     "output_type": "execute_result"
    }
   ],
   "source": [
    "array_a=np.array([[1, 2, 3],[1, 4, 9]])\n",
    "array_b=np.array([[1, 3, 2],[2, 2, 2]])\n",
    "\n",
    "array_a > array_b"
   ]
  },
  {
   "cell_type": "code",
   "execution_count": 62,
   "id": "0f07442a",
   "metadata": {},
   "outputs": [
    {
     "name": "stdout",
     "output_type": "stream",
     "text": [
      "[[False False  True]\n",
      " [False  True  True]]\n"
     ]
    }
   ],
   "source": [
    "array_a=np.array([[1, 2, 3],[1, 4, 9]])\n",
    "array_b=np.array([[1, 3, 2],[2, 2, 2]])\n",
    "\n",
    "print(np.greater(array_a,array_b))"
   ]
  },
  {
   "cell_type": "markdown",
   "id": "19608a5d",
   "metadata": {},
   "source": [
    "### Agregaciones"
   ]
  },
  {
   "cell_type": "code",
   "execution_count": 63,
   "id": "e0b64646",
   "metadata": {},
   "outputs": [
    {
     "data": {
      "text/plain": [
       "array([[1, 2, 3],\n",
       "       [1, 4, 9]])"
      ]
     },
     "execution_count": 63,
     "metadata": {},
     "output_type": "execute_result"
    }
   ],
   "source": [
    "array_a"
   ]
  },
  {
   "cell_type": "code",
   "execution_count": 64,
   "id": "de741fe3",
   "metadata": {},
   "outputs": [
    {
     "data": {
      "text/plain": [
       "array([[1, 3, 2],\n",
       "       [2, 2, 2]])"
      ]
     },
     "execution_count": 64,
     "metadata": {},
     "output_type": "execute_result"
    }
   ],
   "source": [
    "array_b"
   ]
  },
  {
   "cell_type": "code",
   "execution_count": 65,
   "id": "16c21b30",
   "metadata": {},
   "outputs": [
    {
     "data": {
      "text/plain": [
       "array([[ 2,  5,  5],\n",
       "       [ 3,  6, 11]])"
      ]
     },
     "execution_count": 65,
     "metadata": {},
     "output_type": "execute_result"
    }
   ],
   "source": [
    "np.add(array_a, array_b) ## suma los dos arrays"
   ]
  },
  {
   "cell_type": "code",
   "execution_count": 67,
   "id": "ab18bff2",
   "metadata": {},
   "outputs": [
    {
     "data": {
      "text/plain": [
       "array([[1, 2, 3],\n",
       "       [1, 4, 9]])"
      ]
     },
     "execution_count": 67,
     "metadata": {},
     "output_type": "execute_result"
    }
   ],
   "source": [
    "array_a"
   ]
  },
  {
   "cell_type": "code",
   "execution_count": 66,
   "id": "d03ca347",
   "metadata": {},
   "outputs": [
    {
     "data": {
      "text/plain": [
       "array([ 2,  6, 12])"
      ]
     },
     "execution_count": 66,
     "metadata": {},
     "output_type": "execute_result"
    }
   ],
   "source": [
    "array_a_reduced=np.add.reduce(array_a)\n",
    "array_a_reduced"
   ]
  },
  {
   "cell_type": "code",
   "execution_count": 68,
   "id": "930c4d94",
   "metadata": {},
   "outputs": [
    {
     "data": {
      "text/plain": [
       "20"
      ]
     },
     "execution_count": 68,
     "metadata": {},
     "output_type": "execute_result"
    }
   ],
   "source": [
    "np.add.reduce(array_a_reduced)"
   ]
  },
  {
   "cell_type": "code",
   "execution_count": 69,
   "id": "b4a38862",
   "metadata": {},
   "outputs": [
    {
     "data": {
      "text/plain": [
       "20"
      ]
     },
     "execution_count": 69,
     "metadata": {},
     "output_type": "execute_result"
    }
   ],
   "source": [
    "array_a.sum() # es lo mismo que lo anterior"
   ]
  },
  {
   "cell_type": "markdown",
   "id": "589df6b2",
   "metadata": {},
   "source": [
    "### Acumulados\n",
    "\n",
    "Acumula el resultado de aplicar el operador a todos los elementos."
   ]
  },
  {
   "cell_type": "code",
   "execution_count": 71,
   "id": "2ddc90d1",
   "metadata": {},
   "outputs": [
    {
     "data": {
      "text/plain": [
       "array([[1, 2, 3],\n",
       "       [1, 4, 9]])"
      ]
     },
     "execution_count": 71,
     "metadata": {},
     "output_type": "execute_result"
    }
   ],
   "source": [
    "array_a"
   ]
  },
  {
   "cell_type": "code",
   "execution_count": 70,
   "id": "6ebe4088",
   "metadata": {},
   "outputs": [
    {
     "data": {
      "text/plain": [
       "array([[ 1,  2,  3],\n",
       "       [ 2,  6, 12]])"
      ]
     },
     "execution_count": 70,
     "metadata": {},
     "output_type": "execute_result"
    }
   ],
   "source": [
    "np.add.accumulate(array_a)"
   ]
  },
  {
   "cell_type": "code",
   "execution_count": null,
   "id": "d1b38d76",
   "metadata": {},
   "outputs": [],
   "source": [
    "np.add.accumulate(array_a_reduced)"
   ]
  },
  {
   "cell_type": "markdown",
   "id": "4ce365ee",
   "metadata": {},
   "source": [
    "### Operaciones con arrays"
   ]
  },
  {
   "cell_type": "code",
   "execution_count": 72,
   "id": "58587bc6",
   "metadata": {},
   "outputs": [
    {
     "data": {
      "text/plain": [
       "array([[1, 2, 3],\n",
       "       [1, 4, 9]])"
      ]
     },
     "execution_count": 72,
     "metadata": {},
     "output_type": "execute_result"
    }
   ],
   "source": [
    "array_a"
   ]
  },
  {
   "cell_type": "code",
   "execution_count": 73,
   "id": "dfdaa718",
   "metadata": {},
   "outputs": [
    {
     "data": {
      "text/plain": [
       "20"
      ]
     },
     "execution_count": 73,
     "metadata": {},
     "output_type": "execute_result"
    }
   ],
   "source": [
    "array_a.sum()"
   ]
  },
  {
   "cell_type": "code",
   "execution_count": 74,
   "id": "43489e4b",
   "metadata": {},
   "outputs": [
    {
     "data": {
      "text/plain": [
       "array([ 2,  6, 12])"
      ]
     },
     "execution_count": 74,
     "metadata": {},
     "output_type": "execute_result"
    }
   ],
   "source": [
    "array_a.sum(axis=0) "
   ]
  },
  {
   "cell_type": "code",
   "execution_count": 75,
   "id": "f75ed41c",
   "metadata": {},
   "outputs": [
    {
     "data": {
      "text/plain": [
       "array([ 6, 14])"
      ]
     },
     "execution_count": 75,
     "metadata": {},
     "output_type": "execute_result"
    }
   ],
   "source": [
    "array_a.sum(axis=1)"
   ]
  },
  {
   "cell_type": "markdown",
   "id": "e3c9a715",
   "metadata": {},
   "source": [
    "### Ordenación\n"
   ]
  },
  {
   "cell_type": "code",
   "execution_count": 76,
   "id": "a56eeda7",
   "metadata": {},
   "outputs": [
    {
     "data": {
      "text/plain": [
       "array([0.71398566, 0.9477098 , 0.73548002, 0.55076341, 0.08596442,\n",
       "       0.69190874, 0.40831457, 0.16562878, 0.92742953, 0.67527751])"
      ]
     },
     "execution_count": 76,
     "metadata": {},
     "output_type": "execute_result"
    }
   ],
   "source": [
    "array_1d=np.random.rand(10) # definimos array\n",
    "array_1d"
   ]
  },
  {
   "cell_type": "code",
   "execution_count": 77,
   "id": "96c9d256",
   "metadata": {},
   "outputs": [
    {
     "name": "stdout",
     "output_type": "stream",
     "text": [
      "[0.08596442 0.16562878 0.40831457 0.55076341 0.67527751 0.69190874\n",
      " 0.71398566 0.73548002 0.92742953 0.9477098 ]\n"
     ]
    }
   ],
   "source": [
    "print(np.sort(array_1d)) # ordenamos"
   ]
  },
  {
   "cell_type": "code",
   "execution_count": 78,
   "id": "96b0c7dd",
   "metadata": {},
   "outputs": [
    {
     "data": {
      "text/plain": [
       "array([[0.52549381, 0.62202294, 0.90117899, 0.54691277],\n",
       "       [0.63523509, 0.45657972, 0.77585885, 0.90840514],\n",
       "       [0.53064645, 0.34889494, 0.37805519, 0.81726118]])"
      ]
     },
     "execution_count": 78,
     "metadata": {},
     "output_type": "execute_result"
    }
   ],
   "source": [
    "array_2d=np.random.rand(3,4) # definimos array\n",
    "array_2d"
   ]
  },
  {
   "cell_type": "code",
   "execution_count": 79,
   "id": "38fc1cc1",
   "metadata": {},
   "outputs": [
    {
     "name": "stdout",
     "output_type": "stream",
     "text": [
      "[[0.52549381 0.54691277 0.62202294 0.90117899]\n",
      " [0.45657972 0.63523509 0.77585885 0.90840514]\n",
      " [0.34889494 0.37805519 0.53064645 0.81726118]]\n"
     ]
    }
   ],
   "source": [
    "print(np.sort(array_2d)) # ordenamos"
   ]
  },
  {
   "cell_type": "code",
   "execution_count": 80,
   "id": "60c41958",
   "metadata": {},
   "outputs": [
    {
     "name": "stdout",
     "output_type": "stream",
     "text": [
      "[0.34889494 0.37805519 0.45657972 0.52549381 0.53064645 0.54691277\n",
      " 0.62202294 0.63523509 0.77585885 0.81726118 0.90117899 0.90840514]\n"
     ]
    }
   ],
   "source": [
    "print(np.sort(array_2d, None)) # ordenamos"
   ]
  },
  {
   "cell_type": "code",
   "execution_count": 81,
   "id": "4848cff8",
   "metadata": {},
   "outputs": [
    {
     "name": "stdout",
     "output_type": "stream",
     "text": [
      "[[0.52549381 0.34889494 0.37805519 0.54691277]\n",
      " [0.53064645 0.45657972 0.77585885 0.81726118]\n",
      " [0.63523509 0.62202294 0.90117899 0.90840514]]\n"
     ]
    }
   ],
   "source": [
    "print(np.sort(array_2d,axis=0)) # ordenamos"
   ]
  },
  {
   "cell_type": "code",
   "execution_count": 82,
   "id": "bdd4e45b",
   "metadata": {},
   "outputs": [
    {
     "name": "stdout",
     "output_type": "stream",
     "text": [
      "[[0.52549381 0.54691277 0.62202294 0.90117899]\n",
      " [0.45657972 0.63523509 0.77585885 0.90840514]\n",
      " [0.34889494 0.37805519 0.53064645 0.81726118]]\n"
     ]
    }
   ],
   "source": [
    "print(np.sort(array_2d,axis=1)) # ordenamos"
   ]
  },
  {
   "cell_type": "code",
   "execution_count": 94,
   "id": "9ea108e4",
   "metadata": {},
   "outputs": [],
   "source": [
    "array_2d.sort()"
   ]
  },
  {
   "cell_type": "markdown",
   "id": "150482df",
   "metadata": {},
   "source": [
    "### Localizar máximo y mínimo dentro de un array"
   ]
  },
  {
   "cell_type": "code",
   "execution_count": 95,
   "id": "143fe6f3",
   "metadata": {},
   "outputs": [
    {
     "data": {
      "text/plain": [
       "array([[0.55004224, 0.92441333, 0.49841829, 0.14484796, 0.14345781],\n",
       "       [0.77149607, 0.74533125, 0.94385404, 0.49723676, 0.77862742]])"
      ]
     },
     "execution_count": 95,
     "metadata": {},
     "output_type": "execute_result"
    }
   ],
   "source": [
    "array = np.random.rand(2,5) # definimos array aleatorio\n",
    "array"
   ]
  },
  {
   "cell_type": "code",
   "execution_count": 96,
   "id": "5eb7e93c",
   "metadata": {},
   "outputs": [
    {
     "data": {
      "text/plain": [
       "0.9438540361673576"
      ]
     },
     "execution_count": 96,
     "metadata": {},
     "output_type": "execute_result"
    }
   ],
   "source": [
    "np.max(array)"
   ]
  },
  {
   "cell_type": "code",
   "execution_count": 97,
   "id": "78ba687a",
   "metadata": {},
   "outputs": [
    {
     "data": {
      "text/plain": [
       "7"
      ]
     },
     "execution_count": 97,
     "metadata": {},
     "output_type": "execute_result"
    }
   ],
   "source": [
    "np.argmax(array) # posición del array máximo"
   ]
  },
  {
   "cell_type": "code",
   "execution_count": 118,
   "id": "3fabbeb3",
   "metadata": {},
   "outputs": [],
   "source": [
    "kk = np.random.rand(1,10)"
   ]
  },
  {
   "cell_type": "code",
   "execution_count": 119,
   "id": "8d39ab7b",
   "metadata": {},
   "outputs": [
    {
     "data": {
      "text/plain": [
       "array([[0.06904766, 0.30411383, 0.92505322, 0.8661285 , 0.95609264,\n",
       "        0.97344751, 0.8271156 , 0.52975989, 0.71308056, 0.32736964]])"
      ]
     },
     "execution_count": 119,
     "metadata": {},
     "output_type": "execute_result"
    }
   ],
   "source": [
    "kk"
   ]
  },
  {
   "cell_type": "code",
   "execution_count": 122,
   "id": "9d3848f7",
   "metadata": {},
   "outputs": [],
   "source": [
    "kk_ord = np.sort(kk,axis=1)"
   ]
  },
  {
   "cell_type": "code",
   "execution_count": 123,
   "id": "01f0c84f",
   "metadata": {},
   "outputs": [
    {
     "data": {
      "text/plain": [
       "array([[0.06904766, 0.30411383, 0.32736964, 0.52975989, 0.71308056,\n",
       "        0.8271156 , 0.8661285 , 0.92505322, 0.95609264, 0.97344751]])"
      ]
     },
     "execution_count": 123,
     "metadata": {},
     "output_type": "execute_result"
    }
   ],
   "source": [
    "kk_ord"
   ]
  },
  {
   "cell_type": "code",
   "execution_count": 129,
   "id": "d54f041b",
   "metadata": {},
   "outputs": [
    {
     "data": {
      "text/plain": [
       "array([[0.06904766, 0.30411383, 0.32736964, 0.52975989, 0.71308056,\n",
       "        0.8271156 , 0.8661285 , 0.92505322, 0.95609264, 0.97344751]])"
      ]
     },
     "execution_count": 129,
     "metadata": {},
     "output_type": "execute_result"
    }
   ],
   "source": [
    "kk_ord[::-1]"
   ]
  },
  {
   "cell_type": "code",
   "execution_count": 99,
   "id": "6d172db3",
   "metadata": {},
   "outputs": [
    {
     "data": {
      "text/plain": [
       "7"
      ]
     },
     "execution_count": 99,
     "metadata": {},
     "output_type": "execute_result"
    }
   ],
   "source": [
    "np.argmax(array)"
   ]
  },
  {
   "cell_type": "code",
   "execution_count": 100,
   "id": "6901b8d4",
   "metadata": {},
   "outputs": [
    {
     "data": {
      "text/plain": [
       "array([0.94385404])"
      ]
     },
     "execution_count": 100,
     "metadata": {},
     "output_type": "execute_result"
    }
   ],
   "source": [
    "array.reshape(10,-1)[np.argmax(array)] ## seleccionamos el elemento maximo a través de la posición"
   ]
  },
  {
   "cell_type": "code",
   "execution_count": 101,
   "id": "ebd6caf8",
   "metadata": {},
   "outputs": [
    {
     "data": {
      "text/plain": [
       "array([1, 0, 1, 1, 1])"
      ]
     },
     "execution_count": 101,
     "metadata": {},
     "output_type": "execute_result"
    }
   ],
   "source": [
    "np.argmax(array, axis=0)"
   ]
  },
  {
   "cell_type": "code",
   "execution_count": 102,
   "id": "5eb58648",
   "metadata": {},
   "outputs": [
    {
     "data": {
      "text/plain": [
       "array([1, 2])"
      ]
     },
     "execution_count": 102,
     "metadata": {},
     "output_type": "execute_result"
    }
   ],
   "source": [
    "np.argmax(array, axis=1)"
   ]
  },
  {
   "cell_type": "markdown",
   "id": "cf5f6b70",
   "metadata": {},
   "source": [
    "## CONCLUSIONES\n",
    "\n",
    "- NumPy es una librería a bajo nivel para el tratamiento óptimo\n",
    "de matrices\n",
    "\n",
    "- Servirá como la base en que se sustenta Pandas para realizar\n",
    "sus tareas\n",
    "\n",
    "- NumPy proporciona muchos métodos y opciones para un\n",
    "manejo óptimo de datos\n",
    "\n",
    "- De entre sus características podemos destacar la facilidad para\n",
    "indexar elementos, para definir tipos de datos y para aplicar\n",
    "operaciones sobre todos los elementos de un array de datos.\n",
    "\n",
    "- Además de Pandas, NumPy es la base de muchas otras\n",
    "librerías actuales enfocadas en el análisis y el modelado de\n",
    "datos."
   ]
  },
  {
   "cell_type": "code",
   "execution_count": null,
   "id": "8bd3ce3f",
   "metadata": {},
   "outputs": [],
   "source": []
  },
  {
   "cell_type": "code",
   "execution_count": null,
   "id": "56545719",
   "metadata": {},
   "outputs": [],
   "source": []
  },
  {
   "cell_type": "code",
   "execution_count": null,
   "id": "cd825f23",
   "metadata": {},
   "outputs": [],
   "source": []
  },
  {
   "cell_type": "code",
   "execution_count": null,
   "id": "4c0a837f",
   "metadata": {},
   "outputs": [],
   "source": []
  }
 ],
 "metadata": {
  "kernelspec": {
   "display_name": "Python 3 (ipykernel)",
   "language": "python",
   "name": "python3"
  },
  "language_info": {
   "codemirror_mode": {
    "name": "ipython",
    "version": 3
   },
   "file_extension": ".py",
   "mimetype": "text/x-python",
   "name": "python",
   "nbconvert_exporter": "python",
   "pygments_lexer": "ipython3",
   "version": "3.11.5"
  }
 },
 "nbformat": 4,
 "nbformat_minor": 5
}
