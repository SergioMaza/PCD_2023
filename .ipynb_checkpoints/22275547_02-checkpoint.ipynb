{
 "cells": [
  {
   "cell_type": "code",
   "execution_count": 3,
   "id": "fbe3d5dc-4f12-49ce-8193-fd70053ff5e0",
   "metadata": {},
   "outputs": [
    {
     "name": "stdout",
     "output_type": "stream",
     "text": [
      "Collecting python3-nmap\n",
      "  Downloading python3_nmap-1.6.0-py3-none-any.whl (26 kB)\n",
      "Collecting simplejson (from python3-nmap)\n",
      "  Downloading simplejson-3.19.1-cp311-cp311-win_amd64.whl (75 kB)\n",
      "     ---------------------------------------- 0.0/75.3 kB ? eta -:--:--\n",
      "     -------------------------------- ------- 61.4/75.3 kB 1.7 MB/s eta 0:00:01\n",
      "     ---------------------------------------- 75.3/75.3 kB 1.0 MB/s eta 0:00:00\n",
      "Installing collected packages: simplejson, python3-nmap\n",
      "Successfully installed python3-nmap-1.6.0 simplejson-3.19.1\n"
     ]
    }
   ],
   "source": [
    "!pip install python3-nmap"
   ]
  },
  {
   "cell_type": "code",
   "execution_count": 6,
   "id": "93a0cf64-d63a-4af9-aff5-5ad3f64a3406",
   "metadata": {},
   "outputs": [],
   "source": [
    "import nmap3 as map"
   ]
  },
  {
   "cell_type": "code",
   "execution_count": 8,
   "id": "64c1e648-5769-4062-85f9-c3b459005df6",
   "metadata": {},
   "outputs": [],
   "source": [
    "import nmap3"
   ]
  },
  {
   "cell_type": "code",
   "execution_count": null,
   "id": "b00d00d2-97ac-4a60-a9f6-903aa9873f35",
   "metadata": {},
   "outputs": [],
   "source": []
  }
 ],
 "metadata": {
  "kernelspec": {
   "display_name": "Python 3 (ipykernel)",
   "language": "python",
   "name": "python3"
  },
  "language_info": {
   "codemirror_mode": {
    "name": "ipython",
    "version": 3
   },
   "file_extension": ".py",
   "mimetype": "text/x-python",
   "name": "python",
   "nbconvert_exporter": "python",
   "pygments_lexer": "ipython3",
   "version": "3.11.5"
  }
 },
 "nbformat": 4,
 "nbformat_minor": 5
}
